{
 "cells": [
  {
   "cell_type": "markdown",
   "metadata": {
    "application/vnd.databricks.v1+cell": {
     "cellMetadata": {
      "byteLimit": 2048000,
      "rowLimit": 10000
     },
     "inputWidgets": {},
     "nuid": "2423739e-3ba4-4eb3-9f34-326c14a024b6",
     "showTitle": false,
     "title": ""
    }
   },
   "source": [
    "# Analisi del consenso sul Bitcoin\n",
    "\n",
    "Sei stato reclutato da un'azienda di ricerche di mercato per stimare il consenso delle persone verso il Bitcoin. Un team di data engineer ha estratto diversi milioni di tweet che parlano di Bitcoin, il tuo compito è quello di eseguire un'analisi del sentiment e creare un grafico che mostri come questo è variato giorno per giorno. Utilizza anche i dati per rispondere a domande interessanti, come:\n",
    "- i tweet negativi hanno avuto più likes rispetto a quelli positivi?\n",
    "- i tweet negativi hanno avuto più interazioni (risposte) rispetto a quelli positivi?\n",
    "\n",
    "#### BONUS\n",
    "Verifica se la variazione del sentiment è associata ad una variazione del valore del Bitcoin, per svolgere questa task devi reperire in autonomia lo storico di BTC USD"
   ]
  },
  {
   "cell_type": "markdown",
   "metadata": {
    "application/vnd.databricks.v1+cell": {
     "cellMetadata": {
      "byteLimit": 2048000,
      "rowLimit": 10000
     },
     "inputWidgets": {},
     "nuid": "5862a997-6604-426e-a943-7ea10f4e5f82",
     "showTitle": false,
     "title": ""
    }
   },
   "source": [
    "## Caricamento librerie"
   ]
  },
  {
   "cell_type": "code",
   "execution_count": 0,
   "metadata": {
    "application/vnd.databricks.v1+cell": {
     "cellMetadata": {
      "byteLimit": 2048000,
      "rowLimit": 10000
     },
     "inputWidgets": {},
     "nuid": "3619a398-a5ba-4cfb-b2f1-8ead22ebbd4a",
     "showTitle": false,
     "title": ""
    }
   },
   "outputs": [
    {
     "output_type": "stream",
     "name": "stdout",
     "output_type": "stream",
     "text": [
      "Collecting nltk\n  Downloading nltk-3.8.1-py3-none-any.whl (1.5 MB)\n     ━━━━━━━━━━━━━━━━━━━━━━━━━━━━━━━━━━━━━━━━ 1.5/1.5 MB 7.3 MB/s eta 0:00:00\nCollecting regex>=2021.8.3\n  Downloading regex-2024.5.15-cp310-cp310-manylinux_2_17_x86_64.manylinux2014_x86_64.whl (775 kB)\n     ━━━━━━━━━━━━━━━━━━━━━━━━━━━━━━━━━━━━━━━ 775.1/775.1 kB 5.9 MB/s eta 0:00:00\nCollecting tqdm\n  Downloading tqdm-4.66.4-py3-none-any.whl (78 kB)\n     ━━━━━━━━━━━━━━━━━━━━━━━━━━━━━━━━━━━━━━━━ 78.3/78.3 kB 6.3 MB/s eta 0:00:00\nRequirement already satisfied: click in /databricks/python3/lib/python3.10/site-packages (from nltk) (8.0.4)\nRequirement already satisfied: joblib in /databricks/python3/lib/python3.10/site-packages (from nltk) (1.2.0)\nInstalling collected packages: tqdm, regex, nltk\nSuccessfully installed nltk-3.8.1 regex-2024.5.15 tqdm-4.66.4\n"
     ]
    },
    {
     "output_type": "stream",
     "name": "stderr",
     "output_type": "stream",
     "text": [
      "\n[notice] A new release of pip available: 22.3.1 -> 24.0\n[notice] To update, run: pip install --upgrade pip\n"
     ]
    }
   ],
   "source": [
    "%sh pip install nltk"
   ]
  },
  {
   "cell_type": "code",
   "execution_count": 0,
   "metadata": {
    "application/vnd.databricks.v1+cell": {
     "cellMetadata": {
      "byteLimit": 2048000,
      "rowLimit": 10000
     },
     "inputWidgets": {},
     "nuid": "81ba6d5c-8ed3-4cbd-962c-500671404bbf",
     "showTitle": false,
     "title": ""
    }
   },
   "outputs": [
    {
     "output_type": "stream",
     "name": "stdout",
     "output_type": "stream",
     "text": [
      "Collecting textblob\n  Downloading textblob-0.18.0.post0-py3-none-any.whl (626 kB)\n     ━━━━━━━━━━━━━━━━━━━━━━━━━━━━━━━━━━━━━━━ 626.3/626.3 kB 7.3 MB/s eta 0:00:00\nRequirement already satisfied: nltk>=3.8 in /local_disk0/.ephemeral_nfs/envs/pythonEnv-ed3cd83f-a0eb-4188-ad53-1c2db396323b/lib/python3.10/site-packages (from textblob) (3.8.1)\nRequirement already satisfied: click in /databricks/python3/lib/python3.10/site-packages (from nltk>=3.8->textblob) (8.0.4)\nRequirement already satisfied: tqdm in /local_disk0/.ephemeral_nfs/envs/pythonEnv-ed3cd83f-a0eb-4188-ad53-1c2db396323b/lib/python3.10/site-packages (from nltk>=3.8->textblob) (4.66.4)\nRequirement already satisfied: regex>=2021.8.3 in /local_disk0/.ephemeral_nfs/envs/pythonEnv-ed3cd83f-a0eb-4188-ad53-1c2db396323b/lib/python3.10/site-packages (from nltk>=3.8->textblob) (2024.5.15)\nRequirement already satisfied: joblib in /databricks/python3/lib/python3.10/site-packages (from nltk>=3.8->textblob) (1.2.0)\nInstalling collected packages: textblob\nSuccessfully installed textblob-0.18.0.post0\n"
     ]
    },
    {
     "output_type": "stream",
     "name": "stderr",
     "output_type": "stream",
     "text": [
      "\n[notice] A new release of pip available: 22.3.1 -> 24.0\n[notice] To update, run: pip install --upgrade pip\n"
     ]
    }
   ],
   "source": [
    "%sh pip install textblob"
   ]
  },
  {
   "cell_type": "code",
   "execution_count": 0,
   "metadata": {
    "application/vnd.databricks.v1+cell": {
     "cellMetadata": {
      "byteLimit": 2048000,
      "rowLimit": 10000
     },
     "inputWidgets": {},
     "nuid": "358c4bfc-eac5-43f2-96df-7881774fcdcb",
     "showTitle": false,
     "title": ""
    }
   },
   "outputs": [
    {
     "output_type": "stream",
     "name": "stderr",
     "output_type": "stream",
     "text": [
      "[nltk_data] Downloading package stopwords to /root/nltk_data...\n[nltk_data]   Package stopwords is already up-to-date!\n[nltk_data] Downloading package wordnet to /root/nltk_data...\n[nltk_data]   Package wordnet is already up-to-date!\n[nltk_data] Downloading package punkt to /root/nltk_data...\n[nltk_data]   Package punkt is already up-to-date!\n"
     ]
    }
   ],
   "source": [
    "# Import necessary libraries for Spark and NLP\n",
    "from pyspark.sql import SparkSession\n",
    "from pyspark.sql.window import Window\n",
    "from pyspark.sql import functions as F\n",
    "from pyspark.sql import types as T\n",
    "from pyspark.ml.feature import StopWordsRemover\n",
    "from pyspark.sql.functions import udf\n",
    "from pyspark.sql.functions import corr\n",
    "\n",
    "# Import TextBlob for sentiment analysis\n",
    "from textblob import TextBlob\n",
    "\n",
    "# Import Python regular expression module\n",
    "import re\n",
    "\n",
    "# Import NTLK and Download necessary NLTK datasets\n",
    "import nltk\n",
    "from nltk.corpus import stopwords\n",
    "from nltk.stem import WordNetLemmatizer\n",
    "from nltk.tokenize import word_tokenize\n",
    "nltk.download('stopwords')  # Download NLTK stopwords dataset\n",
    "nltk.download('wordnet')  # Download NLTK WordNet dataset\n",
    "nltk.download('punkt')  # Download NLTK punkt tokenizer\n",
    "\n",
    "# Import Pandas\n",
    "import pandas as pd\n",
    "\n",
    "# Import matplotlib and seaborn for visualization\n",
    "import matplotlib.pyplot as plt\n",
    "import matplotlib.dates as mdates\n",
    "import seaborn as sns\n",
    "\n",
    "# Import warning\n",
    "import warnings\n",
    "warnings.filterwarnings('ignore')"
   ]
  },
  {
   "cell_type": "markdown",
   "metadata": {
    "application/vnd.databricks.v1+cell": {
     "cellMetadata": {
      "byteLimit": 2048000,
      "rowLimit": 10000
     },
     "inputWidgets": {},
     "nuid": "be44d9e3-4b6d-4bd6-84a1-fbc95f6f33f5",
     "showTitle": false,
     "title": ""
    }
   },
   "source": [
    "## Caricamento e preprocessing dei tweets"
   ]
  },
  {
   "cell_type": "markdown",
   "metadata": {
    "application/vnd.databricks.v1+cell": {
     "cellMetadata": {
      "byteLimit": 2048000,
      "rowLimit": 10000
     },
     "inputWidgets": {},
     "nuid": "9d8e0c5f-baa3-4f7e-954e-c9ea787a6e62",
     "showTitle": false,
     "title": ""
    }
   },
   "source": [
    "1. **Inizializzazione di una SparkSession**: Si crea una SparkSession con il nome dell'applicazione \"BitcoinTweets\".\n",
    "\n",
    "2. **Definizione dello schema per il DataFrame**: Si definisce lo schema per il DataFrame che verrà utilizzato per leggere i dati dal file CSV. Lo schema specifica i tipi di dati per ogni colonna, come l'ID del tweet, l'utente, il testo del tweet, il timestamp, e così via.\n",
    "\n",
    "3. **Lettura del file CSV**: Si legge il file CSV contenente i tweet utilizzando lo schema definito e si crea un DataFrame.\n",
    "\n",
    "4. **Rimozione delle colonne inutili**: Si eliminano le colonne \"user\", \"fullname\" e \"url\" poiché non sono necessarie per l'analisi successiva.\n",
    "\n",
    "5. **Filtraggio dei dati nulli e duplicati**: Si rimuovono le righe con valori nulli nei campi 'timestamp' e 'text' e si eliminano i duplicati basati su queste colonne.\n",
    "\n",
    "6. **Pulizia del testo dei tweet**: \n",
    "   - Si definisce una funzione per pulire il testo dei tweet, che include la conversione del testo in minuscolo, la rimozione di URL, menzioni, hashtag e caratteri non alfabetici.\n",
    "   - La funzione viene registrata come UDF (User Defined Function) e applicata al DataFrame per creare una nuova colonna \"cleaned_text\".\n",
    "\n",
    "7. **Filtraggio dei testi puliti**: Si rimuovono le righe dove \"cleaned_text\" è null o vuoto.\n",
    "\n",
    "8. **Tokenizzazione del testo**: Si crea un array di parole dalla colonna \"cleaned_text\".\n",
    "\n",
    "9. **Rimozione delle stopwords**: \n",
    "   - Si preparano le stopwords (parole comuni che vengono rimosse durante la pulizia del testo) utilizzando la libreria NLTK.\n",
    "   - Si utilizza `StopWordsRemover` per rimuovere queste stopwords dall'array di parole.\n",
    "\n",
    "10. **Lemmatizzazione**: \n",
    "    - Si inizializza un lemmatizzatore.\n",
    "    - Si definisce una funzione per tokenizzare e lemmatizzare le parole, quindi si registra questa funzione come UDF e la si applica al DataFrame per creare una nuova colonna \"lemmatized_text\".\n",
    "\n",
    "11. **Esportazione dei dati puliti**: \n",
    "    - Si selezionano le colonne finali di interesse (\"id\", \"timestamp\", \"replies\", \"likes\", \"retweets\", \"lemmatized_text\").\n",
    "    - Si scrive il DataFrame pulito in un nuovo file CSV."
   ]
  },
  {
   "cell_type": "code",
   "execution_count": 0,
   "metadata": {
    "application/vnd.databricks.v1+cell": {
     "cellMetadata": {
      "byteLimit": 2048000,
      "rowLimit": 10000
     },
     "inputWidgets": {},
     "nuid": "0aab4e8f-ae2d-43c6-8f7d-8380c791c6a2",
     "showTitle": false,
     "title": ""
    }
   },
   "outputs": [],
   "source": [
    "# Initialize SparkSession\n",
    "spark = SparkSession.builder \\\n",
    "    .appName(\"BitcoinTweets\") \\\n",
    "    .getOrCreate()\n",
    "\n",
    "# Define the schema for the DataFrame\n",
    "schema = T.StructType([\n",
    "    T.StructField(\"id\", T.StringType(), True),\n",
    "    T.StructField(\"user\", T.StringType(), True),\n",
    "    T.StructField(\"fullname\", T.StringType(), True),\n",
    "    T.StructField(\"url\", T.StringType(), True),\n",
    "    T.StructField(\"timestamp\", T.TimestampType(), True),\n",
    "    T.StructField(\"replies\", T.FloatType(), True),\n",
    "    T.StructField(\"likes\", T.FloatType(), True),\n",
    "    T.StructField(\"retweets\", T.FloatType(), True),\n",
    "    T.StructField(\"text\", T.StringType(), True)\n",
    "])\n",
    "\n",
    "# Read the CSV file into a DataFrame using the defined schema\n",
    "df = spark.read \\\n",
    "        .option(\"header\", \"true\") \\\n",
    "        .option(\"multiLine\", \"true\") \\\n",
    "        .schema(schema) \\\n",
    "        .csv(\"/FileStore/tables/bitcoin_tweets.csv\")\n",
    "\n",
    "# Remove unnecessary columns from the DataFrame\n",
    "columns_to_drop = [\"user\", \"fullname\", \"url\"]\n",
    "df = df.drop(*columns_to_drop)\n",
    "\n",
    "# Filter out rows with null 'timestamp' or 'text' and remove duplicate rows based on these columns\n",
    "df = df.dropna(subset=['timestamp', 'text']).dropDuplicates(['timestamp', 'text'])\n",
    "\n",
    "# Define a function to clean the text data\n",
    "def clean_text(text):\n",
    "    if text:\n",
    "        text = text.lower().strip()  # Convert to lowercase and strip whitespace\n",
    "        text = re.sub(r'http\\S+|www\\S+|https\\S+', '', text)  # Remove URLs\n",
    "        text = re.sub(r'@\\w+', '', text)  # Remove mentions\n",
    "        text = re.sub(r'#\\w+', '', text)  # Remove hashtags\n",
    "        text = re.sub(r'[^A-Za-z\\s]', '', text)  # Remove non-alphabetic characters\n",
    "        return text.strip()\n",
    "    else:\n",
    "        return None\n",
    "\n",
    "# Register the cleaning function as a UDF (User Defined Function)\n",
    "clean_text_udf = F.udf(clean_text, T.StringType())\n",
    "df = df.withColumn(\"cleaned_text\", clean_text_udf(F.col(\"text\")))\n",
    "\n",
    "# Remove rows where 'cleaned_text' is null and filter out rows where 'cleaned_text' is empty\n",
    "df = df.dropna(subset=[\"cleaned_text\"]).filter(F.col(\"cleaned_text\") != \"\")\n",
    "\n",
    "# Create an array of words from the 'cleaned_text'\n",
    "df = df.withColumn(\"cleaned_text_array\", F.split(F.col(\"cleaned_text\"), \" \"))\n",
    "\n",
    "# Prepare NLTK stopwords for use in Spark\n",
    "nltk_stopwords = set(stopwords.words('english'))\n",
    "\n",
    "# Configure the StopWordsRemover to remove stopwords from 'cleaned_text_array'\n",
    "remover = StopWordsRemover(inputCol=\"cleaned_text_array\", outputCol=\"filtered_text\", stopWords=list(nltk_stopwords))\n",
    "\n",
    "# Apply the StopWordsRemover transformation to the DataFrame\n",
    "df = remover.transform(df)\n",
    "\n",
    "# Initialize the lemmatizer\n",
    "lemmatizer = WordNetLemmatizer()\n",
    "\n",
    "# Define a function for tokenization and lemmatization\n",
    "def tokenize_and_lemmatize(text_array):\n",
    "    if text_array:\n",
    "        tokens = [lemmatizer.lemmatize(token) for token in text_array]\n",
    "        lemmatized_text = ' '.join(tokens)  # Convert array back to string\n",
    "        lemmatized_text = re.sub(r'\\s+', ' ', lemmatized_text)  # Remove extra spaces\n",
    "        return lemmatized_text.strip()\n",
    "    else:\n",
    "        return None\n",
    "\n",
    "# Register the lemmatization function as a UDF\n",
    "tokenize_and_lemmatize_udf = F.udf(tokenize_and_lemmatize, T.StringType())\n",
    "\n",
    "# Apply the lemmatization transformation to the DataFrame\n",
    "df = df.withColumn(\"lemmatized_text\", tokenize_and_lemmatize_udf(F.col(\"filtered_text\")))\n",
    "\n",
    "# Define the output path for the cleaned data\n",
    "output_path = \"/FileStore/tables/cleaned_bitcoin_tweets.csv\"\n",
    "\n",
    "# Select specific columns for the final output\n",
    "selected_columns = [\"id\", \"timestamp\", \"replies\", \"likes\", \"retweets\", \"lemmatized_text\"]\n",
    "\n",
    "# Write the cleaned DataFrame to a new CSV file\n",
    "df.select(selected_columns) \\\n",
    "    .write \\\n",
    "    .mode(\"overwrite\") \\\n",
    "    .csv(output_path, header=True)"
   ]
  },
  {
   "cell_type": "markdown",
   "metadata": {
    "application/vnd.databricks.v1+cell": {
     "cellMetadata": {
      "byteLimit": 2048000,
      "rowLimit": 10000
     },
     "inputWidgets": {},
     "nuid": "4bc5cb1a-937b-4600-8514-ae7dd994cb57",
     "showTitle": false,
     "title": ""
    }
   },
   "source": [
    "Salvare un DataFrame pulito dopo la pulizia su Apache Spark offre numerosi vantaggi, specialmente quando si lavora con grandi dataset e si pianificano ulteriori analisi. Di seguito sono elencati i principali motivi:\n",
    "\n",
    "1. **Efficienza**: Dopo aver eseguito le operazioni di pulizia (come la rimozione di valori nulli, duplicati, stopwords e applicazione della lemmatizzazione), il dataset risultante è più compatto e strutturato. Salvare questa versione pulita riduce il carico computazionale per le analisi future, evitando di dover ripetere le stesse operazioni di pulizia.\n",
    "\n",
    "2. **Riproducibilità**: Salvando il dataset pulito, si può garantire che le analisi future partano sempre dalla stessa base di dati, riducendo il rischio di errori e discrepanze nei risultati.\n",
    "\n",
    "3. **Sicurezza**: Il dataset grezzo può contenere dati sensibili o ridondanti che non sono necessari per l'analisi. Salvando solo i dati puliti, si riduce l'esposizione di informazioni non necessarie.\n",
    "\n",
    "4. **Scalabilità**: Spark è progettato per gestire grandi quantità di dati in modo distribuito. Una volta puliti e salvati, i dati possono essere facilmente caricati e analizzati su diversi cluster Spark, migliorando la scalabilità delle operazioni.\n",
    "\n",
    "5. **Performance**: La versione pulita del dataset è generalmente più piccola e ottimizzata, il che si traduce in tempi di caricamento e analisi più rapidi. Questo è particolarmente utile quando si eseguono analisi iterative o si sviluppano modelli di machine learning.\n",
    "\n",
    "6. **Consistenza**: Salvando il dataset pulito, si può assicurare che tutte le parti dell'organizzazione che utilizzano questi dati lavorino con informazioni consistenti e aggiornate, migliorando la collaborazione e l'affidabilità delle decisioni basate sui dati."
   ]
  },
  {
   "cell_type": "markdown",
   "metadata": {
    "application/vnd.databricks.v1+cell": {
     "cellMetadata": {
      "byteLimit": 2048000,
      "rowLimit": 10000
     },
     "inputWidgets": {},
     "nuid": "8a0ef039-6c91-4751-aee7-0ce98b8acd76",
     "showTitle": false,
     "title": ""
    }
   },
   "source": [
    "## Caricamento del DataFrame dei tweets pulito"
   ]
  },
  {
   "cell_type": "markdown",
   "metadata": {
    "application/vnd.databricks.v1+cell": {
     "cellMetadata": {
      "byteLimit": 2048000,
      "rowLimit": 10000
     },
     "inputWidgets": {},
     "nuid": "2b829f63-2b50-4635-a7a4-9f4dffa41428",
     "showTitle": false,
     "title": ""
    }
   },
   "source": [
    "1. **Definizione dello schema per il DataFrame**: Si definisce uno schema per il DataFrame che verrà utilizzato per leggere i dati dal file CSV. \n",
    "\n",
    "   Lo schema specifica i tipi di dati per ogni colonna:\n",
    "   - `id`: Tipo stringa (StringType)\n",
    "   - `timestamp`: Tipo timestamp (TimestampType)\n",
    "   - `replies`: Tipo float (FloatType)\n",
    "   - `likes`: Tipo float (FloatType)\n",
    "   - `retweets`: Tipo float (FloatType)\n",
    "   - `lemmatized_text`: Tipo stringa (StringType)\n",
    "\n",
    "2. **Lettura del file CSV**: Si legge il file CSV contenente i tweet puliti utilizzando lo schema definito e si crea un DataFrame. \n",
    "   \n",
    "   Le opzioni specificate includono:\n",
    "   - `header`: Indica che il file CSV contiene una riga di intestazione (`true`).\n",
    "   - `multiLine`: Indica che i campi del CSV possono estendersi su più linee (`true`).\n",
    "\n",
    "3. **Visualizzazione del DataFrame**: Si visualizza il dataframe per essere sicuri di avere a disposizione i dati necessari per le successive analisi."
   ]
  },
  {
   "cell_type": "code",
   "execution_count": 0,
   "metadata": {
    "application/vnd.databricks.v1+cell": {
     "cellMetadata": {
      "byteLimit": 2048000,
      "rowLimit": 10000
     },
     "inputWidgets": {},
     "nuid": "fb84e8c8-7313-40ff-adc0-792d9fe18fd3",
     "showTitle": false,
     "title": ""
    }
   },
   "outputs": [],
   "source": [
    "# Define the schema for the DataFrame\n",
    "schema = T.StructType([\n",
    "    T.StructField(\"id\", T.StringType(), True),\n",
    "    T.StructField(\"timestamp\", T.TimestampType(), True),\n",
    "    T.StructField(\"replies\", T.FloatType(), True),\n",
    "    T.StructField(\"likes\", T.FloatType(), True),\n",
    "    T.StructField(\"retweets\", T.FloatType(), True),\n",
    "    T.StructField(\"lemmatized_text\", T.StringType(), True)\n",
    "])\n",
    "\n",
    "# Read the CSV file into a DataFrame using the defined schema\n",
    "df = spark.read \\\n",
    "        .option(\"header\", \"true\") \\\n",
    "        .option(\"multiLine\", \"true\") \\\n",
    "        .schema(schema) \\\n",
    "        .csv(\"/FileStore/tables/cleaned_bitcoin_tweets.csv\")"
   ]
  },
  {
   "cell_type": "code",
   "execution_count": 0,
   "metadata": {
    "application/vnd.databricks.v1+cell": {
     "cellMetadata": {
      "byteLimit": 2048000,
      "rowLimit": 10000
     },
     "inputWidgets": {},
     "nuid": "19d7b5a0-30a5-413d-8978-066a91103ae7",
     "showTitle": false,
     "title": ""
    }
   },
   "outputs": [
    {
     "output_type": "display_data",
     "data": {
      "text/html": [
       "<style scoped>\n",
       "  .table-result-container {\n",
       "    max-height: 300px;\n",
       "    overflow: auto;\n",
       "  }\n",
       "  table, th, td {\n",
       "    border: 1px solid black;\n",
       "    border-collapse: collapse;\n",
       "  }\n",
       "  th, td {\n",
       "    padding: 5px;\n",
       "  }\n",
       "  th {\n",
       "    text-align: left;\n",
       "  }\n",
       "</style><div class='table-result-container'><table class='table-result'><thead style='background-color: white'><tr><th>id</th><th>timestamp</th><th>replies</th><th>likes</th><th>retweets</th><th>lemmatized_text</th></tr></thead><tbody><tr><td>1110302988</td><td>2009-01-11T03:33:52Z</td><td>790.0</td><td>14470.0</td><td>5542.0</td><td>running bitcoin</td></tr><tr><td>23945637082955776</td><td>2011-01-09T02:34:19Z</td><td>2.0</td><td>39.0</td><td>18.0</td><td>btc usd size btc last h btc k trx difficulty k forum postsday node k</td></tr><tr><td>71069707205214209</td><td>2011-05-19T02:28:33Z</td><td>0.0</td><td>3.0</td><td>3.0</td><td>converted k linden bitcoins think like per bitcoin pretty interesting</td></tr><tr><td>72782678402936832</td><td>2011-05-23T21:55:17Z</td><td>60.0</td><td>907.0</td><td>245.0</td><td>invest life saving bitcoin</td></tr><tr><td>153274506411122688</td><td>2011-12-31T23:41:04Z</td><td>0.0</td><td>0.0</td><td>0.0</td><td>sun jan traded btc usdbtc</td></tr><tr><td>153275493356011520</td><td>2011-12-31T23:44:59Z</td><td>0.0</td><td>0.0</td><td>0.0</td><td>sun jan traded btc usdbtc</td></tr><tr><td>153275513341870080</td><td>2011-12-31T23:45:04Z</td><td>0.0</td><td>0.0</td><td>0.0</td><td>sun jan traded btc usdbtc</td></tr><tr><td>153279076872884224</td><td>2011-12-31T23:59:14Z</td><td>0.0</td><td>0.0</td><td>0.0</td><td>sun jan traded btc usdbtc</td></tr><tr><td>153279752856272896</td><td>2012-01-01T00:01:55Z</td><td>0.0</td><td>0.0</td><td>0.0</td><td>sun jan traded btc usdbtc</td></tr><tr><td>153627159364251648</td><td>2012-01-01T23:02:23Z</td><td>0.0</td><td>0.0</td><td>0.0</td><td>mon jan traded btc usdbtc</td></tr><tr><td>153627192545382400</td><td>2012-01-01T23:02:31Z</td><td>0.0</td><td>0.0</td><td>0.0</td><td>mon jan traded btc usdbtc</td></tr><tr><td>153627813663084544</td><td>2012-01-01T23:04:59Z</td><td>0.0</td><td>0.0</td><td>0.0</td><td>mon jan traded btc usdbtc</td></tr><tr><td>153628138117677058</td><td>2012-01-01T23:06:17Z</td><td>0.0</td><td>0.0</td><td>0.0</td><td>mon jan traded btc usdbtc</td></tr><tr><td>153628145579327488</td><td>2012-01-01T23:06:18Z</td><td>0.0</td><td>0.0</td><td>0.0</td><td>mon jan traded btc usdbtc</td></tr><tr><td>153628156182544385</td><td>2012-01-01T23:06:21Z</td><td>0.0</td><td>0.0</td><td>0.0</td><td>mon jan traded btc usdbtc</td></tr><tr><td>153628168362803200</td><td>2012-01-01T23:06:24Z</td><td>0.0</td><td>0.0</td><td>0.0</td><td>mon jan traded btc usdbtc</td></tr><tr><td>153628171915374592</td><td>2012-01-01T23:06:25Z</td><td>0.0</td><td>0.0</td><td>0.0</td><td>mon jan traded btc usdbtc</td></tr><tr><td>153628479227826176</td><td>2012-01-01T23:07:38Z</td><td>0.0</td><td>0.0</td><td>0.0</td><td>mon jan traded btc usdbtc</td></tr><tr><td>153628482721693697</td><td>2012-01-01T23:07:39Z</td><td>0.0</td><td>0.0</td><td>0.0</td><td>mon jan traded btc usdbtc</td></tr><tr><td>153628485896781826</td><td>2012-01-01T23:07:39Z</td><td>0.0</td><td>0.0</td><td>0.0</td><td>mon jan traded btc usdbtc</td></tr><tr><td>153628489176727552</td><td>2012-01-01T23:07:40Z</td><td>0.0</td><td>0.0</td><td>0.0</td><td>mon jan traded btc usdbtc</td></tr><tr><td>153628493001928704</td><td>2012-01-01T23:07:41Z</td><td>0.0</td><td>0.0</td><td>0.0</td><td>mon jan traded btc usdbtc</td></tr><tr><td>153716180136370177</td><td>2012-01-02T04:56:07Z</td><td>0.0</td><td>0.0</td><td>0.0</td><td>mon jan traded btc usdbtc</td></tr><tr><td>153716189766496257</td><td>2012-01-02T04:56:10Z</td><td>0.0</td><td>0.0</td><td>0.0</td><td>mon jan traded btc usdbtc</td></tr><tr><td>153716196150214656</td><td>2012-01-02T04:56:11Z</td><td>0.0</td><td>0.0</td><td>0.0</td><td>mon jan traded btc usdbtc</td></tr><tr><td>153757803633311745</td><td>2012-01-02T07:41:31Z</td><td>0.0</td><td>0.0</td><td>0.0</td><td>mon jan traded btc usdbtc</td></tr><tr><td>153757806959398912</td><td>2012-01-02T07:41:32Z</td><td>0.0</td><td>0.0</td><td>0.0</td><td>mon jan traded btc usdbtc</td></tr><tr><td>153848274061770753</td><td>2012-01-02T13:41:01Z</td><td>0.0</td><td>0.0</td><td>0.0</td><td>mon jan traded btc usdbtc</td></tr><tr><td>153904308834938880</td><td>2012-01-02T17:23:41Z</td><td>0.0</td><td>0.0</td><td>0.0</td><td>weekly hourlong dev meeting organized tuesday pm est utc freenodedev</td></tr><tr><td>153994907252555778</td><td>2012-01-02T23:23:41Z</td><td>0.0</td><td>0.0</td><td>0.0</td><td>tue jan traded btc usdbtc</td></tr><tr><td>153995523064463363</td><td>2012-01-02T23:26:08Z</td><td>0.0</td><td>0.0</td><td>0.0</td><td>tue jan traded btc usdbtc</td></tr><tr><td>153995594459918336</td><td>2012-01-02T23:26:25Z</td><td>0.0</td><td>0.0</td><td>0.0</td><td>tue jan traded btc usdbtc</td></tr><tr><td>153995627242598400</td><td>2012-01-02T23:26:33Z</td><td>0.0</td><td>0.0</td><td>0.0</td><td>tue jan traded btc usdbtc</td></tr><tr><td>153995641595510784</td><td>2012-01-02T23:26:36Z</td><td>0.0</td><td>0.0</td><td>0.0</td><td>tue jan traded btc usdbtc</td></tr><tr><td>153996255306072064</td><td>2012-01-02T23:29:03Z</td><td>0.0</td><td>0.0</td><td>0.0</td><td>tue jan traded btc usdbtc</td></tr><tr><td>153997157106597888</td><td>2012-01-02T23:32:38Z</td><td>0.0</td><td>0.0</td><td>0.0</td><td>tue jan traded btc usdbtc</td></tr><tr><td>153998335215284224</td><td>2012-01-02T23:37:18Z</td><td>0.0</td><td>0.0</td><td>0.0</td><td>tue jan traded btc usdbtc</td></tr><tr><td>153999521418973185</td><td>2012-01-02T23:42:01Z</td><td>0.0</td><td>0.0</td><td>0.0</td><td>tue jan traded btc usdbtc</td></tr><tr><td>154000432895762432</td><td>2012-01-02T23:45:39Z</td><td>0.0</td><td>0.0</td><td>0.0</td><td>tue jan traded btc usdbtc</td></tr><tr><td>154080002344886273</td><td>2012-01-03T05:01:49Z</td><td>0.0</td><td>0.0</td><td>0.0</td><td>tue jan traded btc usdbtc</td></tr><tr><td>154080006014902272</td><td>2012-01-03T05:01:50Z</td><td>0.0</td><td>0.0</td><td>0.0</td><td>tue jan traded btc usdbtc</td></tr><tr><td>154080010033041410</td><td>2012-01-03T05:01:51Z</td><td>0.0</td><td>0.0</td><td>0.0</td><td>tue jan traded btc usdbtc</td></tr><tr><td>154080038193602560</td><td>2012-01-03T05:01:58Z</td><td>0.0</td><td>0.0</td><td>0.0</td><td>tue jan traded btc usdbtc</td></tr><tr><td>154080044841574400</td><td>2012-01-03T05:02:00Z</td><td>0.0</td><td>0.0</td><td>0.0</td><td>tue jan traded btc usdbtc</td></tr><tr><td>154080056656924672</td><td>2012-01-03T05:02:02Z</td><td>0.0</td><td>0.0</td><td>0.0</td><td>tue jan traded btc usdbtc</td></tr><tr><td>154080060809281536</td><td>2012-01-03T05:02:03Z</td><td>0.0</td><td>0.0</td><td>0.0</td><td>tue jan traded btc usdbtc</td></tr><tr><td>154080081608847360</td><td>2012-01-03T05:02:08Z</td><td>0.0</td><td>0.0</td><td>0.0</td><td>tue jan traded btc usdbtc</td></tr><tr><td>154133560708710400</td><td>2012-01-03T08:34:39Z</td><td>0.0</td><td>0.0</td><td>0.0</td><td>tue jan traded btc usdbtc</td></tr><tr><td>154140427937783809</td><td>2012-01-03T09:01:56Z</td><td>0.0</td><td>0.0</td><td>0.0</td><td>tue jan traded btc usdbtc</td></tr><tr><td>154171802392854528</td><td>2012-01-03T11:06:36Z</td><td>0.0</td><td>0.0</td><td>0.0</td><td>tue jan traded btc usdbtc</td></tr><tr><td>154353190102507520</td><td>2012-01-03T23:07:22Z</td><td>0.0</td><td>0.0</td><td>0.0</td><td>wed jan traded btc usdbtc</td></tr><tr><td>154354216230600705</td><td>2012-01-03T23:11:27Z</td><td>0.0</td><td>0.0</td><td>0.0</td><td>wed jan traded btc usdbtc</td></tr><tr><td>154356595529220097</td><td>2012-01-03T23:20:54Z</td><td>0.0</td><td>0.0</td><td>0.0</td><td>wed jan traded btc usdbtc</td></tr><tr><td>154356598771429376</td><td>2012-01-03T23:20:55Z</td><td>0.0</td><td>0.0</td><td>0.0</td><td>wed jan traded btc usdbtc</td></tr><tr><td>154356952187670528</td><td>2012-01-03T23:22:19Z</td><td>0.0</td><td>0.0</td><td>0.0</td><td>wed jan traded btc usdbtc</td></tr><tr><td>154442374519603202</td><td>2012-01-04T05:01:46Z</td><td>0.0</td><td>0.0</td><td>0.0</td><td>wed jan traded btc usdbtc</td></tr><tr><td>154442427300724736</td><td>2012-01-04T05:01:58Z</td><td>0.0</td><td>0.0</td><td>0.0</td><td>wed jan traded btc usdbtc</td></tr><tr><td>154442453926154241</td><td>2012-01-04T05:02:05Z</td><td>0.0</td><td>0.0</td><td>0.0</td><td>wed jan traded btc usdbtc</td></tr><tr><td>154442465435336704</td><td>2012-01-04T05:02:07Z</td><td>0.0</td><td>0.0</td><td>0.0</td><td>wed jan traded btc usdbtc</td></tr><tr><td>154442475254190080</td><td>2012-01-04T05:02:10Z</td><td>0.0</td><td>0.0</td><td>0.0</td><td>wed jan traded btc usdbtc</td></tr><tr><td>154442482992680962</td><td>2012-01-04T05:02:12Z</td><td>0.0</td><td>0.0</td><td>0.0</td><td>wed jan traded btc usdbtc</td></tr><tr><td>154442503691567104</td><td>2012-01-04T05:02:16Z</td><td>0.0</td><td>0.0</td><td>0.0</td><td>wed jan traded btc usdbtc</td></tr><tr><td>154442536210014208</td><td>2012-01-04T05:02:24Z</td><td>0.0</td><td>0.0</td><td>0.0</td><td>wed jan traded btc usdbtc</td></tr><tr><td>154442606435246080</td><td>2012-01-04T05:02:41Z</td><td>0.0</td><td>0.0</td><td>0.0</td><td>wed jan traded btc usdbtc</td></tr><tr><td>154487858147770368</td><td>2012-01-04T08:02:30Z</td><td>0.0</td><td>0.0</td><td>0.0</td><td>wed jan traded btc usdbtc</td></tr><tr><td>154487861297676289</td><td>2012-01-04T08:02:31Z</td><td>0.0</td><td>0.0</td><td>0.0</td><td>wed jan traded btc usdbtc</td></tr><tr><td>154714116035055618</td><td>2012-01-04T23:01:34Z</td><td>0.0</td><td>0.0</td><td>0.0</td><td>thu jan traded btc usdbtc</td></tr><tr><td>154714823899357184</td><td>2012-01-04T23:04:23Z</td><td>0.0</td><td>0.0</td><td>0.0</td><td>thu jan traded btc usdbtc</td></tr><tr><td>154715176174751745</td><td>2012-01-04T23:05:47Z</td><td>0.0</td><td>0.0</td><td>0.0</td><td>thu jan traded btc usdbtc</td></tr><tr><td>154716919453323265</td><td>2012-01-04T23:12:42Z</td><td>0.0</td><td>0.0</td><td>0.0</td><td>thu jan traded btc usdbtc</td></tr><tr><td>154716943897731072</td><td>2012-01-04T23:12:48Z</td><td>0.0</td><td>0.0</td><td>0.0</td><td>thu jan traded btc usdbtc</td></tr><tr><td>154716951212593153</td><td>2012-01-04T23:12:50Z</td><td>0.0</td><td>0.0</td><td>0.0</td><td>thu jan traded btc usdbtc</td></tr><tr><td>154717035195154432</td><td>2012-01-04T23:13:10Z</td><td>0.0</td><td>0.0</td><td>0.0</td><td>thu jan traded btc usdbtc</td></tr><tr><td>154717056594481152</td><td>2012-01-04T23:13:15Z</td><td>0.0</td><td>0.0</td><td>0.0</td><td>thu jan traded btc usdbtc</td></tr><tr><td>154717076999782400</td><td>2012-01-04T23:13:20Z</td><td>0.0</td><td>0.0</td><td>0.0</td><td>thu jan traded btc usdbtc</td></tr><tr><td>154717508316839938</td><td>2012-01-04T23:15:03Z</td><td>0.0</td><td>0.0</td><td>0.0</td><td>thu jan traded btc usdbtc</td></tr><tr><td>154717512456617984</td><td>2012-01-04T23:15:04Z</td><td>0.0</td><td>0.0</td><td>0.0</td><td>thu jan traded btc usdbtc</td></tr><tr><td>154717523735089152</td><td>2012-01-04T23:15:06Z</td><td>0.0</td><td>0.0</td><td>0.0</td><td>thu jan traded btc usdbtc</td></tr><tr><td>154717541225340929</td><td>2012-01-04T23:15:10Z</td><td>0.0</td><td>0.0</td><td>0.0</td><td>thu jan traded btc usdbtc</td></tr><tr><td>154758832596336640</td><td>2012-01-05T01:59:15Z</td><td>0.0</td><td>0.0</td><td>0.0</td><td>shade may bitcoin top trade bitcoin round extremely volatile trading bitcoin hit</td></tr><tr><td>154879822093484032</td><td>2012-01-05T10:00:01Z</td><td>0.0</td><td>0.0</td><td>0.0</td><td>bitcoin exchange rate usd eur gbp chf sll</td></tr><tr><td>155021269870448640</td><td>2012-01-05T19:22:05Z</td><td>0.0</td><td>0.0</td><td>0.0</td><td>ugh bouta droffice day thats hate btc got many client booked tf</td></tr><tr><td>155187708644425728</td><td>2012-01-06T06:23:27Z</td><td>0.0</td><td>0.0</td><td>1.0</td><td>rt registration team open btc</td></tr><tr><td>155188125268844545</td><td>2012-01-06T06:25:06Z</td><td>0.0</td><td>0.0</td><td>0.0</td><td>rt registration team open btc</td></tr><tr><td>155257661435289600</td><td>2012-01-06T11:01:25Z</td><td>0.0</td><td>0.0</td><td>0.0</td><td>btc office window</td></tr><tr><td>155272411783233537</td><td>2012-01-06T12:00:02Z</td><td>0.0</td><td>0.0</td><td>0.0</td><td>bitcoin exchange rate usd eur gbp chf sll</td></tr><tr><td>155582887691952128</td><td>2012-01-07T08:33:45Z</td><td>0.0</td><td>0.0</td><td>0.0</td><td>rugby union celtic league cardiff blues draw leinster lion</td></tr><tr><td>155604601628934144</td><td>2012-01-07T10:00:02Z</td><td>0.0</td><td>0.0</td><td>0.0</td><td>bitcoin price usd eur gbp chf sll</td></tr><tr><td>155793819701485568</td><td>2012-01-07T22:31:55Z</td><td>0.0</td><td>0.0</td><td>0.0</td><td>sat jan traded btc usdbtc</td></tr><tr><td>155793836826824705</td><td>2012-01-07T22:31:59Z</td><td>0.0</td><td>0.0</td><td>0.0</td><td>sat jan traded btc usdbtc</td></tr><tr><td>155793855248216064</td><td>2012-01-07T22:32:04Z</td><td>0.0</td><td>0.0</td><td>0.0</td><td>sat jan traded btc usdbtc</td></tr><tr><td>156105763432050689</td><td>2012-01-08T19:11:28Z</td><td>0.0</td><td>0.0</td><td>0.0</td><td>sun jan traded btc usdbtc</td></tr><tr><td>156358413876600833</td><td>2012-01-09T11:55:25Z</td><td>0.0</td><td>0.0</td><td>0.0</td><td>mon jan traded btc usdbtc</td></tr><tr><td>156450222510313474</td><td>2012-01-09T18:00:14Z</td><td>0.0</td><td>0.0</td><td>0.0</td><td>mon jan traded btc usdbtc</td></tr><tr><td>156451508274200576</td><td>2012-01-09T18:05:20Z</td><td>0.0</td><td>0.0</td><td>0.0</td><td>mon jan traded btc usdbtc</td></tr><tr><td>156540687431630848</td><td>2012-01-09T23:59:42Z</td><td>0.0</td><td>0.0</td><td>0.0</td><td>tue jan traded btc usdbtc</td></tr><tr><td>156540691290402816</td><td>2012-01-09T23:59:43Z</td><td>0.0</td><td>0.0</td><td>0.0</td><td>tue jan traded btc usdbtc</td></tr><tr><td>156540694696177664</td><td>2012-01-09T23:59:44Z</td><td>0.0</td><td>0.0</td><td>0.0</td><td>tue jan traded btc usdbtc</td></tr><tr><td>156540711351758848</td><td>2012-01-09T23:59:48Z</td><td>0.0</td><td>0.0</td><td>0.0</td><td>tue jan traded btc usdbtc</td></tr><tr><td>156540757040308225</td><td>2012-01-09T23:59:59Z</td><td>0.0</td><td>0.0</td><td>0.0</td><td>tue jan traded btc usdbtc</td></tr></tbody></table></div>"
      ]
     },
     "metadata": {
      "application/vnd.databricks.v1+output": {
       "addedWidgets": {},
       "aggData": [],
       "aggError": "",
       "aggOverflow": false,
       "aggSchema": [],
       "aggSeriesLimitReached": false,
       "aggType": "",
       "arguments": {},
       "columnCustomDisplayInfos": {},
       "data": [
        [
         "1110302988",
         "2009-01-11T03:33:52Z",
         790.0,
         14470.0,
         5542.0,
         "running bitcoin"
        ],
        [
         "23945637082955776",
         "2011-01-09T02:34:19Z",
         2.0,
         39.0,
         18.0,
         "btc usd size btc last h btc k trx difficulty k forum postsday node k"
        ],
        [
         "71069707205214209",
         "2011-05-19T02:28:33Z",
         0.0,
         3.0,
         3.0,
         "converted k linden bitcoins think like per bitcoin pretty interesting"
        ],
        [
         "72782678402936832",
         "2011-05-23T21:55:17Z",
         60.0,
         907.0,
         245.0,
         "invest life saving bitcoin"
        ],
        [
         "153274506411122688",
         "2011-12-31T23:41:04Z",
         0.0,
         0.0,
         0.0,
         "sun jan traded btc usdbtc"
        ],
        [
         "153275493356011520",
         "2011-12-31T23:44:59Z",
         0.0,
         0.0,
         0.0,
         "sun jan traded btc usdbtc"
        ],
        [
         "153275513341870080",
         "2011-12-31T23:45:04Z",
         0.0,
         0.0,
         0.0,
         "sun jan traded btc usdbtc"
        ],
        [
         "153279076872884224",
         "2011-12-31T23:59:14Z",
         0.0,
         0.0,
         0.0,
         "sun jan traded btc usdbtc"
        ],
        [
         "153279752856272896",
         "2012-01-01T00:01:55Z",
         0.0,
         0.0,
         0.0,
         "sun jan traded btc usdbtc"
        ],
        [
         "153627159364251648",
         "2012-01-01T23:02:23Z",
         0.0,
         0.0,
         0.0,
         "mon jan traded btc usdbtc"
        ],
        [
         "153627192545382400",
         "2012-01-01T23:02:31Z",
         0.0,
         0.0,
         0.0,
         "mon jan traded btc usdbtc"
        ],
        [
         "153627813663084544",
         "2012-01-01T23:04:59Z",
         0.0,
         0.0,
         0.0,
         "mon jan traded btc usdbtc"
        ],
        [
         "153628138117677058",
         "2012-01-01T23:06:17Z",
         0.0,
         0.0,
         0.0,
         "mon jan traded btc usdbtc"
        ],
        [
         "153628145579327488",
         "2012-01-01T23:06:18Z",
         0.0,
         0.0,
         0.0,
         "mon jan traded btc usdbtc"
        ],
        [
         "153628156182544385",
         "2012-01-01T23:06:21Z",
         0.0,
         0.0,
         0.0,
         "mon jan traded btc usdbtc"
        ],
        [
         "153628168362803200",
         "2012-01-01T23:06:24Z",
         0.0,
         0.0,
         0.0,
         "mon jan traded btc usdbtc"
        ],
        [
         "153628171915374592",
         "2012-01-01T23:06:25Z",
         0.0,
         0.0,
         0.0,
         "mon jan traded btc usdbtc"
        ],
        [
         "153628479227826176",
         "2012-01-01T23:07:38Z",
         0.0,
         0.0,
         0.0,
         "mon jan traded btc usdbtc"
        ],
        [
         "153628482721693697",
         "2012-01-01T23:07:39Z",
         0.0,
         0.0,
         0.0,
         "mon jan traded btc usdbtc"
        ],
        [
         "153628485896781826",
         "2012-01-01T23:07:39Z",
         0.0,
         0.0,
         0.0,
         "mon jan traded btc usdbtc"
        ],
        [
         "153628489176727552",
         "2012-01-01T23:07:40Z",
         0.0,
         0.0,
         0.0,
         "mon jan traded btc usdbtc"
        ],
        [
         "153628493001928704",
         "2012-01-01T23:07:41Z",
         0.0,
         0.0,
         0.0,
         "mon jan traded btc usdbtc"
        ],
        [
         "153716180136370177",
         "2012-01-02T04:56:07Z",
         0.0,
         0.0,
         0.0,
         "mon jan traded btc usdbtc"
        ],
        [
         "153716189766496257",
         "2012-01-02T04:56:10Z",
         0.0,
         0.0,
         0.0,
         "mon jan traded btc usdbtc"
        ],
        [
         "153716196150214656",
         "2012-01-02T04:56:11Z",
         0.0,
         0.0,
         0.0,
         "mon jan traded btc usdbtc"
        ],
        [
         "153757803633311745",
         "2012-01-02T07:41:31Z",
         0.0,
         0.0,
         0.0,
         "mon jan traded btc usdbtc"
        ],
        [
         "153757806959398912",
         "2012-01-02T07:41:32Z",
         0.0,
         0.0,
         0.0,
         "mon jan traded btc usdbtc"
        ],
        [
         "153848274061770753",
         "2012-01-02T13:41:01Z",
         0.0,
         0.0,
         0.0,
         "mon jan traded btc usdbtc"
        ],
        [
         "153904308834938880",
         "2012-01-02T17:23:41Z",
         0.0,
         0.0,
         0.0,
         "weekly hourlong dev meeting organized tuesday pm est utc freenodedev"
        ],
        [
         "153994907252555778",
         "2012-01-02T23:23:41Z",
         0.0,
         0.0,
         0.0,
         "tue jan traded btc usdbtc"
        ],
        [
         "153995523064463363",
         "2012-01-02T23:26:08Z",
         0.0,
         0.0,
         0.0,
         "tue jan traded btc usdbtc"
        ],
        [
         "153995594459918336",
         "2012-01-02T23:26:25Z",
         0.0,
         0.0,
         0.0,
         "tue jan traded btc usdbtc"
        ],
        [
         "153995627242598400",
         "2012-01-02T23:26:33Z",
         0.0,
         0.0,
         0.0,
         "tue jan traded btc usdbtc"
        ],
        [
         "153995641595510784",
         "2012-01-02T23:26:36Z",
         0.0,
         0.0,
         0.0,
         "tue jan traded btc usdbtc"
        ],
        [
         "153996255306072064",
         "2012-01-02T23:29:03Z",
         0.0,
         0.0,
         0.0,
         "tue jan traded btc usdbtc"
        ],
        [
         "153997157106597888",
         "2012-01-02T23:32:38Z",
         0.0,
         0.0,
         0.0,
         "tue jan traded btc usdbtc"
        ],
        [
         "153998335215284224",
         "2012-01-02T23:37:18Z",
         0.0,
         0.0,
         0.0,
         "tue jan traded btc usdbtc"
        ],
        [
         "153999521418973185",
         "2012-01-02T23:42:01Z",
         0.0,
         0.0,
         0.0,
         "tue jan traded btc usdbtc"
        ],
        [
         "154000432895762432",
         "2012-01-02T23:45:39Z",
         0.0,
         0.0,
         0.0,
         "tue jan traded btc usdbtc"
        ],
        [
         "154080002344886273",
         "2012-01-03T05:01:49Z",
         0.0,
         0.0,
         0.0,
         "tue jan traded btc usdbtc"
        ],
        [
         "154080006014902272",
         "2012-01-03T05:01:50Z",
         0.0,
         0.0,
         0.0,
         "tue jan traded btc usdbtc"
        ],
        [
         "154080010033041410",
         "2012-01-03T05:01:51Z",
         0.0,
         0.0,
         0.0,
         "tue jan traded btc usdbtc"
        ],
        [
         "154080038193602560",
         "2012-01-03T05:01:58Z",
         0.0,
         0.0,
         0.0,
         "tue jan traded btc usdbtc"
        ],
        [
         "154080044841574400",
         "2012-01-03T05:02:00Z",
         0.0,
         0.0,
         0.0,
         "tue jan traded btc usdbtc"
        ],
        [
         "154080056656924672",
         "2012-01-03T05:02:02Z",
         0.0,
         0.0,
         0.0,
         "tue jan traded btc usdbtc"
        ],
        [
         "154080060809281536",
         "2012-01-03T05:02:03Z",
         0.0,
         0.0,
         0.0,
         "tue jan traded btc usdbtc"
        ],
        [
         "154080081608847360",
         "2012-01-03T05:02:08Z",
         0.0,
         0.0,
         0.0,
         "tue jan traded btc usdbtc"
        ],
        [
         "154133560708710400",
         "2012-01-03T08:34:39Z",
         0.0,
         0.0,
         0.0,
         "tue jan traded btc usdbtc"
        ],
        [
         "154140427937783809",
         "2012-01-03T09:01:56Z",
         0.0,
         0.0,
         0.0,
         "tue jan traded btc usdbtc"
        ],
        [
         "154171802392854528",
         "2012-01-03T11:06:36Z",
         0.0,
         0.0,
         0.0,
         "tue jan traded btc usdbtc"
        ],
        [
         "154353190102507520",
         "2012-01-03T23:07:22Z",
         0.0,
         0.0,
         0.0,
         "wed jan traded btc usdbtc"
        ],
        [
         "154354216230600705",
         "2012-01-03T23:11:27Z",
         0.0,
         0.0,
         0.0,
         "wed jan traded btc usdbtc"
        ],
        [
         "154356595529220097",
         "2012-01-03T23:20:54Z",
         0.0,
         0.0,
         0.0,
         "wed jan traded btc usdbtc"
        ],
        [
         "154356598771429376",
         "2012-01-03T23:20:55Z",
         0.0,
         0.0,
         0.0,
         "wed jan traded btc usdbtc"
        ],
        [
         "154356952187670528",
         "2012-01-03T23:22:19Z",
         0.0,
         0.0,
         0.0,
         "wed jan traded btc usdbtc"
        ],
        [
         "154442374519603202",
         "2012-01-04T05:01:46Z",
         0.0,
         0.0,
         0.0,
         "wed jan traded btc usdbtc"
        ],
        [
         "154442427300724736",
         "2012-01-04T05:01:58Z",
         0.0,
         0.0,
         0.0,
         "wed jan traded btc usdbtc"
        ],
        [
         "154442453926154241",
         "2012-01-04T05:02:05Z",
         0.0,
         0.0,
         0.0,
         "wed jan traded btc usdbtc"
        ],
        [
         "154442465435336704",
         "2012-01-04T05:02:07Z",
         0.0,
         0.0,
         0.0,
         "wed jan traded btc usdbtc"
        ],
        [
         "154442475254190080",
         "2012-01-04T05:02:10Z",
         0.0,
         0.0,
         0.0,
         "wed jan traded btc usdbtc"
        ],
        [
         "154442482992680962",
         "2012-01-04T05:02:12Z",
         0.0,
         0.0,
         0.0,
         "wed jan traded btc usdbtc"
        ],
        [
         "154442503691567104",
         "2012-01-04T05:02:16Z",
         0.0,
         0.0,
         0.0,
         "wed jan traded btc usdbtc"
        ],
        [
         "154442536210014208",
         "2012-01-04T05:02:24Z",
         0.0,
         0.0,
         0.0,
         "wed jan traded btc usdbtc"
        ],
        [
         "154442606435246080",
         "2012-01-04T05:02:41Z",
         0.0,
         0.0,
         0.0,
         "wed jan traded btc usdbtc"
        ],
        [
         "154487858147770368",
         "2012-01-04T08:02:30Z",
         0.0,
         0.0,
         0.0,
         "wed jan traded btc usdbtc"
        ],
        [
         "154487861297676289",
         "2012-01-04T08:02:31Z",
         0.0,
         0.0,
         0.0,
         "wed jan traded btc usdbtc"
        ],
        [
         "154714116035055618",
         "2012-01-04T23:01:34Z",
         0.0,
         0.0,
         0.0,
         "thu jan traded btc usdbtc"
        ],
        [
         "154714823899357184",
         "2012-01-04T23:04:23Z",
         0.0,
         0.0,
         0.0,
         "thu jan traded btc usdbtc"
        ],
        [
         "154715176174751745",
         "2012-01-04T23:05:47Z",
         0.0,
         0.0,
         0.0,
         "thu jan traded btc usdbtc"
        ],
        [
         "154716919453323265",
         "2012-01-04T23:12:42Z",
         0.0,
         0.0,
         0.0,
         "thu jan traded btc usdbtc"
        ],
        [
         "154716943897731072",
         "2012-01-04T23:12:48Z",
         0.0,
         0.0,
         0.0,
         "thu jan traded btc usdbtc"
        ],
        [
         "154716951212593153",
         "2012-01-04T23:12:50Z",
         0.0,
         0.0,
         0.0,
         "thu jan traded btc usdbtc"
        ],
        [
         "154717035195154432",
         "2012-01-04T23:13:10Z",
         0.0,
         0.0,
         0.0,
         "thu jan traded btc usdbtc"
        ],
        [
         "154717056594481152",
         "2012-01-04T23:13:15Z",
         0.0,
         0.0,
         0.0,
         "thu jan traded btc usdbtc"
        ],
        [
         "154717076999782400",
         "2012-01-04T23:13:20Z",
         0.0,
         0.0,
         0.0,
         "thu jan traded btc usdbtc"
        ],
        [
         "154717508316839938",
         "2012-01-04T23:15:03Z",
         0.0,
         0.0,
         0.0,
         "thu jan traded btc usdbtc"
        ],
        [
         "154717512456617984",
         "2012-01-04T23:15:04Z",
         0.0,
         0.0,
         0.0,
         "thu jan traded btc usdbtc"
        ],
        [
         "154717523735089152",
         "2012-01-04T23:15:06Z",
         0.0,
         0.0,
         0.0,
         "thu jan traded btc usdbtc"
        ],
        [
         "154717541225340929",
         "2012-01-04T23:15:10Z",
         0.0,
         0.0,
         0.0,
         "thu jan traded btc usdbtc"
        ],
        [
         "154758832596336640",
         "2012-01-05T01:59:15Z",
         0.0,
         0.0,
         0.0,
         "shade may bitcoin top trade bitcoin round extremely volatile trading bitcoin hit"
        ],
        [
         "154879822093484032",
         "2012-01-05T10:00:01Z",
         0.0,
         0.0,
         0.0,
         "bitcoin exchange rate usd eur gbp chf sll"
        ],
        [
         "155021269870448640",
         "2012-01-05T19:22:05Z",
         0.0,
         0.0,
         0.0,
         "ugh bouta droffice day thats hate btc got many client booked tf"
        ],
        [
         "155187708644425728",
         "2012-01-06T06:23:27Z",
         0.0,
         0.0,
         1.0,
         "rt registration team open btc"
        ],
        [
         "155188125268844545",
         "2012-01-06T06:25:06Z",
         0.0,
         0.0,
         0.0,
         "rt registration team open btc"
        ],
        [
         "155257661435289600",
         "2012-01-06T11:01:25Z",
         0.0,
         0.0,
         0.0,
         "btc office window"
        ],
        [
         "155272411783233537",
         "2012-01-06T12:00:02Z",
         0.0,
         0.0,
         0.0,
         "bitcoin exchange rate usd eur gbp chf sll"
        ],
        [
         "155582887691952128",
         "2012-01-07T08:33:45Z",
         0.0,
         0.0,
         0.0,
         "rugby union celtic league cardiff blues draw leinster lion"
        ],
        [
         "155604601628934144",
         "2012-01-07T10:00:02Z",
         0.0,
         0.0,
         0.0,
         "bitcoin price usd eur gbp chf sll"
        ],
        [
         "155793819701485568",
         "2012-01-07T22:31:55Z",
         0.0,
         0.0,
         0.0,
         "sat jan traded btc usdbtc"
        ],
        [
         "155793836826824705",
         "2012-01-07T22:31:59Z",
         0.0,
         0.0,
         0.0,
         "sat jan traded btc usdbtc"
        ],
        [
         "155793855248216064",
         "2012-01-07T22:32:04Z",
         0.0,
         0.0,
         0.0,
         "sat jan traded btc usdbtc"
        ],
        [
         "156105763432050689",
         "2012-01-08T19:11:28Z",
         0.0,
         0.0,
         0.0,
         "sun jan traded btc usdbtc"
        ],
        [
         "156358413876600833",
         "2012-01-09T11:55:25Z",
         0.0,
         0.0,
         0.0,
         "mon jan traded btc usdbtc"
        ],
        [
         "156450222510313474",
         "2012-01-09T18:00:14Z",
         0.0,
         0.0,
         0.0,
         "mon jan traded btc usdbtc"
        ],
        [
         "156451508274200576",
         "2012-01-09T18:05:20Z",
         0.0,
         0.0,
         0.0,
         "mon jan traded btc usdbtc"
        ],
        [
         "156540687431630848",
         "2012-01-09T23:59:42Z",
         0.0,
         0.0,
         0.0,
         "tue jan traded btc usdbtc"
        ],
        [
         "156540691290402816",
         "2012-01-09T23:59:43Z",
         0.0,
         0.0,
         0.0,
         "tue jan traded btc usdbtc"
        ],
        [
         "156540694696177664",
         "2012-01-09T23:59:44Z",
         0.0,
         0.0,
         0.0,
         "tue jan traded btc usdbtc"
        ],
        [
         "156540711351758848",
         "2012-01-09T23:59:48Z",
         0.0,
         0.0,
         0.0,
         "tue jan traded btc usdbtc"
        ],
        [
         "156540757040308225",
         "2012-01-09T23:59:59Z",
         0.0,
         0.0,
         0.0,
         "tue jan traded btc usdbtc"
        ]
       ],
       "datasetInfos": [],
       "dbfsResultPath": null,
       "isJsonSchema": true,
       "metadata": {},
       "overflow": false,
       "plotOptions": {
        "customPlotOptions": {},
        "displayType": "table",
        "pivotAggregation": null,
        "pivotColumns": null,
        "xColumns": null,
        "yColumns": null
       },
       "removedWidgets": [],
       "schema": [
        {
         "metadata": "{}",
         "name": "id",
         "type": "\"string\""
        },
        {
         "metadata": "{}",
         "name": "timestamp",
         "type": "\"timestamp\""
        },
        {
         "metadata": "{}",
         "name": "replies",
         "type": "\"float\""
        },
        {
         "metadata": "{}",
         "name": "likes",
         "type": "\"float\""
        },
        {
         "metadata": "{}",
         "name": "retweets",
         "type": "\"float\""
        },
        {
         "metadata": "{}",
         "name": "lemmatized_text",
         "type": "\"string\""
        }
       ],
       "type": "table"
      }
     },
     "output_type": "display_data"
    }
   ],
   "source": [
    "display(df.limit(100))"
   ]
  },
  {
   "cell_type": "markdown",
   "metadata": {
    "application/vnd.databricks.v1+cell": {
     "cellMetadata": {
      "byteLimit": 2048000,
      "rowLimit": 10000
     },
     "inputWidgets": {},
     "nuid": "9fee3c09-3cb9-40e8-9790-0db8573fb47f",
     "showTitle": false,
     "title": ""
    }
   },
   "source": [
    "## Analisi del Sentiment sui tweets"
   ]
  },
  {
   "cell_type": "markdown",
   "metadata": {
    "application/vnd.databricks.v1+cell": {
     "cellMetadata": {
      "byteLimit": 2048000,
      "rowLimit": 10000
     },
     "inputWidgets": {},
     "nuid": "0734cbbe-2c6f-4b88-89dc-d0772b3213bb",
     "showTitle": false,
     "title": ""
    }
   },
   "source": [
    "1. **Definizione della funzione per calcolare il sentimento**: \n",
    "   - La funzione `analyze_sentiment` prende in input un testo.\n",
    "   - Viene creato un oggetto TextBlob per il testo in input.\n",
    "   - Si determina la polarità del testo e si ritorna il corrispondente sentimento:\n",
    "     - `positive` se la polarità è maggiore di 0.\n",
    "     - `negative` se la polarità è minore di 0.\n",
    "     - `neutral` se la polarità è uguale a 0.\n",
    "\n",
    "2. **Registrazione della funzione definita dall'utente (UDF)**: \n",
    "   - La funzione `analyze_sentiment` viene registrata come una UDF (User-Defined Function) per poter essere utilizzata con i DataFrame di Spark.\n",
    "\n",
    "3. **Applicazione della UDF al DataFrame**: \n",
    "   - Si applica la UDF al DataFrame per creare una nuova colonna \"sentiment\" contenente il risultato dell'analisi del sentimento per ogni riga.\n",
    "\n",
    "4. **Filtro le righe nulle**: \n",
    "   - Si fltrano le righe che hanno `lemmatized_text` nullo.\n",
    "\n",
    "5. **Creazione di una colonna di data combinata**:\n",
    "   - Viene creata una nuova colonna `date` nel formato `\"yyyy-MM-dd\"` a partire dalla colonna `\"timestamp\"`.   \n",
    "\n",
    "6. **Visualizzazione del DataFrame aggiornato**: \n",
    "   - Si mostra il DataFrame aggiornato con la nuova colonna \"sentiment\"."
   ]
  },
  {
   "cell_type": "code",
   "execution_count": 0,
   "metadata": {
    "application/vnd.databricks.v1+cell": {
     "cellMetadata": {
      "byteLimit": 2048000,
      "rowLimit": 10000
     },
     "inputWidgets": {},
     "nuid": "72987ed2-7511-4702-b2b9-2ec1237dead7",
     "showTitle": false,
     "title": ""
    }
   },
   "outputs": [
    {
     "output_type": "stream",
     "name": "stdout",
     "output_type": "stream",
     "text": [
      "+------------------+-------------------+-------+-------+--------+--------------------+---------+----------+\n|                id|          timestamp|replies|  likes|retweets|     lemmatized_text|sentiment|      date|\n+------------------+-------------------+-------+-------+--------+--------------------+---------+----------+\n|        1110302988|2009-01-11 03:33:52|  790.0|14470.0|  5542.0|     running bitcoin|  neutral|2009-01-11|\n| 23945637082955776|2011-01-09 02:34:19|    2.0|   39.0|    18.0|btc usd size btc ...|  neutral|2011-01-09|\n| 71069707205214209|2011-05-19 02:28:33|    0.0|    3.0|     3.0|converted k linde...| positive|2011-05-19|\n| 72782678402936832|2011-05-23 21:55:17|   60.0|  907.0|   245.0|invest life savin...|  neutral|2011-05-23|\n|153274506411122688|2011-12-31 23:41:04|    0.0|    0.0|     0.0|sun jan traded bt...|  neutral|2011-12-31|\n|153275493356011520|2011-12-31 23:44:59|    0.0|    0.0|     0.0|sun jan traded bt...|  neutral|2011-12-31|\n|153275513341870080|2011-12-31 23:45:04|    0.0|    0.0|     0.0|sun jan traded bt...|  neutral|2011-12-31|\n|153279076872884224|2011-12-31 23:59:14|    0.0|    0.0|     0.0|sun jan traded bt...|  neutral|2011-12-31|\n|153279752856272896|2012-01-01 00:01:55|    0.0|    0.0|     0.0|sun jan traded bt...|  neutral|2012-01-01|\n|153627159364251648|2012-01-01 23:02:23|    0.0|    0.0|     0.0|mon jan traded bt...|  neutral|2012-01-01|\n|153627192545382400|2012-01-01 23:02:31|    0.0|    0.0|     0.0|mon jan traded bt...|  neutral|2012-01-01|\n|153627813663084544|2012-01-01 23:04:59|    0.0|    0.0|     0.0|mon jan traded bt...|  neutral|2012-01-01|\n|153628138117677058|2012-01-01 23:06:17|    0.0|    0.0|     0.0|mon jan traded bt...|  neutral|2012-01-01|\n|153628145579327488|2012-01-01 23:06:18|    0.0|    0.0|     0.0|mon jan traded bt...|  neutral|2012-01-01|\n|153628156182544385|2012-01-01 23:06:21|    0.0|    0.0|     0.0|mon jan traded bt...|  neutral|2012-01-01|\n|153628168362803200|2012-01-01 23:06:24|    0.0|    0.0|     0.0|mon jan traded bt...|  neutral|2012-01-01|\n|153628171915374592|2012-01-01 23:06:25|    0.0|    0.0|     0.0|mon jan traded bt...|  neutral|2012-01-01|\n|153628479227826176|2012-01-01 23:07:38|    0.0|    0.0|     0.0|mon jan traded bt...|  neutral|2012-01-01|\n|153628482721693697|2012-01-01 23:07:39|    0.0|    0.0|     0.0|mon jan traded bt...|  neutral|2012-01-01|\n|153628485896781826|2012-01-01 23:07:39|    0.0|    0.0|     0.0|mon jan traded bt...|  neutral|2012-01-01|\n+------------------+-------------------+-------+-------+--------+--------------------+---------+----------+\nonly showing top 20 rows\n\n"
     ]
    }
   ],
   "source": [
    "# Function to calculate sentiment\n",
    "def analyze_sentiment(text):\n",
    "    # Calculate polarity of the text\n",
    "    polarity = TextBlob(text).sentiment.polarity\n",
    "    \n",
    "    # Determine sentiment based on polarity\n",
    "    if polarity > 0:\n",
    "        return 'positive'\n",
    "    elif polarity < 0:\n",
    "        return 'negative'\n",
    "    else:\n",
    "        return 'neutral'\n",
    "\n",
    "# Register the User-Defined Function (UDF)\n",
    "sentiment_udf = F.udf(analyze_sentiment, F.StringType())\n",
    "\n",
    "# Apply the UDF to the DataFrame\n",
    "df = df.withColumn(\"sentiment\", sentiment_udf(df[\"lemmatized_text\"]))\n",
    "\n",
    "# Filter out rows where lemmatized_text is null\n",
    "df = df.filter(F.col(\"lemmatized_text\").isNotNull())\n",
    "\n",
    "# Create a combined date column in the format yyyy-MM-dd\n",
    "df = df.withColumn(\"date\", F.date_format(\"timestamp\", \"yyyy-MM-dd\"))\n",
    "\n",
    "# Show the updated DataFrame with the new sentiment column\n",
    "df.show()"
   ]
  },
  {
   "cell_type": "markdown",
   "metadata": {
    "application/vnd.databricks.v1+cell": {
     "cellMetadata": {
      "byteLimit": 2048000,
      "rowLimit": 10000
     },
     "inputWidgets": {},
     "nuid": "b3228f2c-7a44-4e29-8c18-552cd218f892",
     "showTitle": false,
     "title": ""
    }
   },
   "source": [
    "## Analisi dei dati dei tweets giorno per giorno in base al sentiment"
   ]
  },
  {
   "cell_type": "markdown",
   "metadata": {
    "application/vnd.databricks.v1+cell": {
     "cellMetadata": {
      "byteLimit": 2048000,
      "rowLimit": 10000
     },
     "inputWidgets": {},
     "nuid": "4bc62aeb-1530-4e97-895f-aeeb295a6aca",
     "showTitle": false,
     "title": ""
    }
   },
   "source": [
    "1. **Raggruppamento per la nuova colonna di data combinata e sentimento**:\n",
    "   - Il DataFrame è raggruppato per le colonne `date` e `sentiment`.\n",
    "   - Viene calcolato il conteggio dei sentimenti per ogni combinazione di data e sentiment.\n",
    "   - I risultati sono ordinati per `date`.\n",
    "\n",
    "2. **Visualizzazione dei risultati**:\n",
    "   - Mostra il DataFrame risultante con il conteggio dei sentiment per data e tipo di sentiment, fornendo una panoramica dettagliata sull'andamento dei sentiment nel tempo."
   ]
  },
  {
   "cell_type": "code",
   "execution_count": 0,
   "metadata": {
    "application/vnd.databricks.v1+cell": {
     "cellMetadata": {
      "byteLimit": 2048000,
      "rowLimit": 10000
     },
     "inputWidgets": {},
     "nuid": "0bc1e621-3b1d-452a-a843-d2fea96708a9",
     "showTitle": false,
     "title": ""
    }
   },
   "outputs": [
    {
     "output_type": "stream",
     "name": "stdout",
     "output_type": "stream",
     "text": [
      "+----------+---------+-----+\n|      date|sentiment|count|\n+----------+---------+-----+\n|2009-01-11|  neutral|    1|\n|2011-01-09|  neutral|    1|\n|2011-03-27| positive|    1|\n|2011-04-14| positive|    1|\n|2011-04-24|  neutral|    1|\n|2011-05-10| positive|    1|\n|2011-05-11|  neutral|    1|\n|2011-05-14|  neutral|    1|\n|2011-05-15| positive|    1|\n|2011-05-16| positive|    3|\n|2011-05-16|  neutral|    2|\n|2011-05-16| negative|    1|\n|2011-05-17| positive|    1|\n|2011-05-18| positive|    1|\n|2011-05-19| positive|    2|\n|2011-05-19| negative|    2|\n|2011-05-19|  neutral|    1|\n|2011-05-20| positive|    1|\n|2011-05-20|  neutral|    1|\n|2011-05-23|  neutral|    1|\n+----------+---------+-----+\nonly showing top 20 rows\n\n"
     ]
    }
   ],
   "source": [
    "# Group by the new combined date column and sentiment, and calculate sentiment counts\n",
    "daily_sentiment = df.groupBy(\"date\", \"sentiment\").count().orderBy(\"date\")\n",
    "\n",
    "# Show the result\n",
    "daily_sentiment.show()"
   ]
  },
  {
   "cell_type": "markdown",
   "metadata": {
    "application/vnd.databricks.v1+cell": {
     "cellMetadata": {
      "byteLimit": 2048000,
      "rowLimit": 10000
     },
     "inputWidgets": {},
     "nuid": "8ba4a8d2-2d09-4cec-a7c8-6ac5b7f25f29",
     "showTitle": false,
     "title": ""
    }
   },
   "source": [
    "## Creazione di un Grafico della Variazione del Sentiment dei Tweet su Bitcoin"
   ]
  },
  {
   "cell_type": "markdown",
   "metadata": {
    "application/vnd.databricks.v1+cell": {
     "cellMetadata": {
      "byteLimit": 2048000,
      "rowLimit": 10000
     },
     "inputWidgets": {},
     "nuid": "8752e078-78a5-4f84-8f6e-b3b9ae0dd75b",
     "showTitle": false,
     "title": ""
    }
   },
   "source": [
    "#### Definizione della Palette di Colori Personalizzata\n",
    "Viene definito un dizionario `custom_colors` che mappa le categorie di sentiment a colori specifici:\n",
    "- `'neutral'`: Grigio\n",
    "- `'positive'`: Verde\n",
    "- `'negative'`: Rosso\n",
    "\n",
    "#### Generazione della Palette di Colori\n",
    "Viene utilizzata una list comprehension per generare una lista di colori `palette`. Questa lista è basata sui valori unici di sentiment nella colonna `'sentiment'` del DataFrame `pdf`, utilizzando la palette definita in precedenza.\n",
    "\n",
    "#### Creazione del Grafico\n",
    "1. **Dimensioni del Grafico**: Viene creato un nuovo grafico con dimensioni specificate di 14 pollici di larghezza per 7 pollici di altezza.\n",
    "   \n",
    "2. **Plot dei Dati**: Utilizzando Seaborn (`sns.lineplot`), vengono visualizzati i dati:\n",
    "   - sull'asse x (`\"date\"`): La data dei tweet.\n",
    "   - sull'asse y (`\"count\"`): Il conteggio dei tweet.\n",
    "   - Il colore delle linee è basato sul valore della colonna `\"sentiment\"` utilizzando la palette personalizzata.\n",
    "\n",
    "3. **Titolo, Etichette degli Assi e Legenda**:\n",
    "   - **Titolo**: \"Variazione del Sentiment dei Tweet su Bitcoin Giorno per Giorno\".\n",
    "   - **Etichetta sull'Asse x**: \"Data\".\n",
    "   - **Etichetta sull'Asse y**: \"Conteggio dei Tweet\".\n",
    "   - **Legenda**: Viene aggiunta una legenda con titolo personalizzato (\"Sentiment\") e etichette per i sentimenti (\"Neutral\", \"Positive\", \"Negative\").\n",
    "\n",
    "4. **Visualizzazione del Grafico**: Il grafico viene mostrato utilizzando `plt.show()`.\n",
    "\n",
    "Questo codice è ideale per esplorare e visualizzare in modo efficace come il sentiment nei tweet su Bitcoin varia nel tempo, utilizzando una palette di colori che aiuta a distinguere chiaramente i diversi tipi di sentimenti espressi."
   ]
  },
  {
   "cell_type": "code",
   "execution_count": 0,
   "metadata": {
    "application/vnd.databricks.v1+cell": {
     "cellMetadata": {
      "byteLimit": 2048000,
      "rowLimit": 10000
     },
     "inputWidgets": {},
     "nuid": "5d12f3f8-a912-4a24-8d29-35fee84ae7d3",
     "showTitle": false,
     "title": ""
    }
   },
   "outputs": [
    {
     "output_type": "display_data",
     "data": {
      "image/png": "[encoded data removed]",
      "text/plain": [
       "<Figure size 1800x1200 with 1 Axes>"
      ]
     },
     "metadata": {},
     "output_type": "display_data"
    }
   ],
   "source": [
    "# Convert Spark DataFrame to Pandas DataFrame\n",
    "pdf = daily_sentiment.toPandas()\n",
    "\n",
    "# Ensure 'date' column is datetime and set it as index\n",
    "pdf['date'] = pd.to_datetime(pdf['date'])\n",
    "pdf.set_index('date', inplace=True)\n",
    "\n",
    "# Raggruppa per mese e calcola la media del conteggio dei tweet\n",
    "pdf_monthly = pdf.resample('M').mean().reset_index()\n",
    "\n",
    "# Create a custom color palette\n",
    "custom_colors = {'neutral': 'gray', 'positive': 'green', 'negative': 'red'}\n",
    "\n",
    "# Generate a palette of colors based on unique sentiment values\n",
    "palette = [custom_colors[sentiment] for sentiment in pdf['sentiment'].unique()]\n",
    "\n",
    "# Create a new figure for the plot with specified size\n",
    "plt.figure(figsize=(18, 12))\n",
    "\n",
    "# Generate a line plot using Seaborn\n",
    "sns.lineplot(data=pdf, x=\"date\", y=\"count\", hue=\"sentiment\", palette=palette)\n",
    "\n",
    "# Set the X-axis format to display only years\n",
    "plt.gca().xaxis.set_major_locator(mdates.YearLocator())\n",
    "plt.gca().xaxis.set_major_formatter(mdates.DateFormatter('%Y'))\n",
    "\n",
    "plt.xticks(pd.date_range(pdf.index.min(), pdf.index.max(), freq='YS'), rotation=45)\n",
    "\n",
    "# Set the title, xlabel, and ylabel of the plot\n",
    "plt.title('Variazione del Sentiment dei Tweet su Bitcoin Giorno per Giorno')\n",
    "plt.xlabel('Data')\n",
    "plt.ylabel('Conteggio dei Tweet')\n",
    "\n",
    "# Add a legend with custom title and labels\n",
    "plt.legend(title='Sentiment', labels=['Neutral', 'Positive', 'Negative'])\n",
    "\n",
    "# Display the plot\n",
    "plt.show()\n"
   ]
  },
  {
   "cell_type": "markdown",
   "metadata": {
    "application/vnd.databricks.v1+cell": {
     "cellMetadata": {
      "byteLimit": 2048000,
      "rowLimit": 10000
     },
     "inputWidgets": {},
     "nuid": "ed1c2b8e-0dc9-4e0e-bd5b-7912f63e3952",
     "showTitle": false,
     "title": ""
    }
   },
   "source": [
    "## Analisi dei like e delle interazioni sui tweets"
   ]
  },
  {
   "cell_type": "markdown",
   "metadata": {
    "application/vnd.databricks.v1+cell": {
     "cellMetadata": {
      "byteLimit": 2048000,
      "rowLimit": 10000
     },
     "inputWidgets": {},
     "nuid": "e0707ad9-f2ca-4865-bd4b-c6dc9bb6e711",
     "showTitle": false,
     "title": ""
    }
   },
   "source": [
    "#### Raggruppamento del DataFrame per la Colonna \"sentiment\"\n",
    "Il DataFrame `df` è stato raggruppato per la colonna `\"sentiment\"` per calcolare le medie dei campi `\"likes\"` e `\"replies\"`.\n",
    "\n",
    "#### Calcolo delle Medie\n",
    "Utilizzando il metodo `.groupBy()` e `.agg()`, vengono calcolate le seguenti medie:\n",
    "- **`avg_likes`**: Media dei \"likes\" per ogni categoria di sentimento.\n",
    "- **`avg_replies`**: Media delle \"replies\" per ogni categoria di sentimento.\n",
    "\n",
    "#### Visualizzazione del DataFrame Risultante\n",
    "Il DataFrame risultante, `likes_interactions`, contiene le medie dei \"likes\" e delle \"replies\" per ciascuna categoria di sentimento.\n",
    "\n",
    "#### Mostrare il DataFrame Risultante\n",
    "Viene mostrato il DataFrame `likes_interactions` che presenta le medie dei \"likes\" e delle \"replies\" per ogni categoria di sentimento, fornendo una panoramica delle interazioni medie associate a ciascun tipo di sentiment."
   ]
  },
  {
   "cell_type": "code",
   "execution_count": 0,
   "metadata": {
    "application/vnd.databricks.v1+cell": {
     "cellMetadata": {
      "byteLimit": 2048000,
      "rowLimit": 10000
     },
     "inputWidgets": {},
     "nuid": "0f223fcc-4f31-4aee-b548-7d4c745622a8",
     "showTitle": false,
     "title": ""
    }
   },
   "outputs": [
    {
     "output_type": "stream",
     "name": "stdout",
     "output_type": "stream",
     "text": [
      "+---------+------------------+------------------+-------------------+------------------+\n|sentiment|         avg_likes|      stddev_likes|        avg_replies|    stddev_replies|\n+---------+------------------+------------------+-------------------+------------------+\n| positive|3.1429044872204703| 89.15948375067475|0.39628089522599197|15.226817539784722|\n|  neutral| 1.461252423637262|215.44744903590538|0.13545693087599697|6.7511132938124465|\n| negative|3.6142996540406283|137.74554561989765|0.43382861704958753|12.146831757870578|\n+---------+------------------+------------------+-------------------+------------------+\n\n"
     ]
    }
   ],
   "source": [
    "# Group the DataFrame by the \"sentiment\" column and compute averages and standard deviations\n",
    "interactions_stats = df.groupBy(\"sentiment\").agg(\n",
    "    F.avg(\"likes\").alias(\"avg_likes\"),\n",
    "    F.stddev(\"likes\").alias(\"stddev_likes\"),  # Standard deviation of likes\n",
    "    F.avg(\"replies\").alias(\"avg_replies\"),\n",
    "    F.stddev(\"replies\").alias(\"stddev_replies\")  # Standard deviation of replies\n",
    ")\n",
    "\n",
    "# Display the resulting DataFrame containing averages and standard deviations\n",
    "interactions_stats.show()"
   ]
  },
  {
   "cell_type": "markdown",
   "metadata": {
    "application/vnd.databricks.v1+cell": {
     "cellMetadata": {
      "byteLimit": 2048000,
      "rowLimit": 10000
     },
     "inputWidgets": {},
     "nuid": "d39cf554-883f-4c01-bb88-e6b882e79cb8",
     "showTitle": false,
     "title": ""
    }
   },
   "source": [
    "#### I tweet negativi hanno avuto più likes rispetto a quelli positivi?\n",
    "\n",
    "I tweet negativi hanno mostrato una media leggermente superiore di likes rispetto ai tweet positivi. Tuttavia, è importante notare che la deviazione standard per i likes dei tweet negativi è significativamente più alta rispetto a quella dei tweet positivi. Ciò indica che, sebbene i tweet negativi abbiano ottenuto in media più likes, c'è anche una maggiore variabilità nei risultati dei likes per questi tweet rispetto ai tweet positivi.\n"
   ]
  },
  {
   "cell_type": "markdown",
   "metadata": {
    "application/vnd.databricks.v1+cell": {
     "cellMetadata": {
      "byteLimit": 2048000,
      "rowLimit": 10000
     },
     "inputWidgets": {},
     "nuid": "b80b7bed-86fe-48c6-a872-97ffefbc7364",
     "showTitle": false,
     "title": ""
    }
   },
   "source": [
    "#### I tweet negativi hanno avuto più interazioni (risposte) rispetto a quelli positivi?\n",
    "\n",
    "I tweet negativi hanno mostrato una media leggermente superiore di risposte rispetto ai tweet positivi. Tuttavia, la differenza è minima. La deviazione standard delle risposte per i tweet negativi è inferiore rispetto a quella dei tweet positivi, indicando che le risposte ai tweet negativi sono meno variabili rispetto ai tweet positivi.\n"
   ]
  },
  {
   "cell_type": "markdown",
   "metadata": {
    "application/vnd.databricks.v1+cell": {
     "cellMetadata": {
      "byteLimit": 2048000,
      "rowLimit": 10000
     },
     "inputWidgets": {},
     "nuid": "e4543859-ec06-4ee1-8fa0-0582b3d73f74",
     "showTitle": false,
     "title": ""
    }
   },
   "source": [
    "## Caricamento dati che rappresentano il valore del Bitcoin nel tempo"
   ]
  },
  {
   "cell_type": "markdown",
   "metadata": {
    "application/vnd.databricks.v1+cell": {
     "cellMetadata": {
      "byteLimit": 2048000,
      "rowLimit": 10000
     },
     "inputWidgets": {},
     "nuid": "2e9b8ea0-eb45-4384-a841-ae875c19f403",
     "showTitle": false,
     "title": ""
    }
   },
   "source": [
    "#### Definizione dello Schema\n",
    "Viene definito uno schema `price_schema` per il DataFrame dei prezzi:\n",
    "- **`timestamp`**: Campo di tipo `TimestampType`, che rappresenta il timestamp dei dati.\n",
    "- **`price`**: Campo di tipo `FloatType`, che rappresenta il valore del prezzo.\n",
    "\n",
    "#### Lettura del File CSV con lo Schema Definito\n",
    "Il file CSV contenente i dati dei prezzi viene letto in un DataFrame chiamato `price_df`, utilizzando lo schema definito (`price_schema`):\n",
    "- Opzioni aggiuntive specificate includono:\n",
    "  - `\"header\": \"true\"`: Indica che la prima riga contiene i nomi delle colonne.\n",
    "  - `\"multiLine\": \"true\"`: Per gestire il caso in cui un campo di testo possa contenere caratteri di nuova linea.\n",
    "\n",
    "#### Visualizzazione dei Dati\n",
    "Viene mostrato il DataFrame `price_df` per verificare che i dati siano stati correttamente letti e strutturati secondo lo schema definito."
   ]
  },
  {
   "cell_type": "code",
   "execution_count": 0,
   "metadata": {
    "application/vnd.databricks.v1+cell": {
     "cellMetadata": {
      "byteLimit": 2048000,
      "rowLimit": 10000
     },
     "inputWidgets": {},
     "nuid": "ba4aefcb-e7b1-4f39-843e-f662d5093169",
     "showTitle": false,
     "title": ""
    }
   },
   "outputs": [
    {
     "output_type": "stream",
     "name": "stdout",
     "output_type": "stream",
     "text": [
      "+-----+----------+\n|price|      date|\n+-----+----------+\n| 0.09|2010-07-18|\n| 0.08|2010-07-19|\n| 0.07|2010-07-20|\n| 0.08|2010-07-21|\n| 0.05|2010-07-22|\n| 0.06|2010-07-23|\n| 0.05|2010-07-24|\n| 0.05|2010-07-25|\n| 0.06|2010-07-26|\n| 0.06|2010-07-27|\n| 0.06|2010-07-28|\n| 0.07|2010-07-29|\n| 0.06|2010-07-30|\n| 0.07|2010-07-31|\n| 0.06|2010-08-01|\n| 0.06|2010-08-02|\n| 0.06|2010-08-03|\n| 0.06|2010-08-04|\n| 0.06|2010-08-05|\n| 0.06|2010-08-06|\n+-----+----------+\nonly showing top 20 rows\n\n"
     ]
    }
   ],
   "source": [
    "# Define the schema for the Price DataFrame\n",
    "price_schema = T.StructType([\n",
    "    T.StructField(\"timestamp\", T.TimestampType(), True),\n",
    "    T.StructField(\"price\", T.FloatType(), True)\n",
    "])\n",
    "\n",
    "# Read the CSV file into a Price DataFrame using the defined schema\n",
    "price_df = spark.read \\\n",
    "        .option(\"header\", \"true\") \\\n",
    "        .option(\"multiLine\", \"true\") \\\n",
    "        .schema(price_schema) \\\n",
    "        .csv(\"/FileStore/tables/btc_usd.csv\")\n",
    "\n",
    "# Apply the transformation to keep only the date\n",
    "price_df = price_df.withColumn(\"date\", F.date_format(\"timestamp\", \"yyyy-MM-dd\")).drop(\"timestamp\")        \n",
    "\n",
    "# Display the DataFrame\n",
    "price_df.show()"
   ]
  },
  {
   "cell_type": "markdown",
   "metadata": {
    "application/vnd.databricks.v1+cell": {
     "cellMetadata": {
      "byteLimit": 2048000,
      "rowLimit": 10000
     },
     "inputWidgets": {},
     "nuid": "ad962c65-a41b-4631-ae51-d819da294c7a",
     "showTitle": false,
     "title": ""
    }
   },
   "source": [
    "## Associazione del sentiments dei tweets con il valore del Bitcoin"
   ]
  },
  {
   "cell_type": "markdown",
   "metadata": {
    "application/vnd.databricks.v1+cell": {
     "cellMetadata": {
      "byteLimit": 2048000,
      "rowLimit": 10000
     },
     "inputWidgets": {},
     "nuid": "d984f51f-1b7b-4cc2-aede-67ab3f157d4c",
     "showTitle": false,
     "title": ""
    }
   },
   "source": [
    "#### Unione dei DataFrame\n",
    "Il DataFrame `daily_sentiment` contenente i dati di sentiment giornalieri e il DataFrame `price_df` contenente i dati storici dei prezzi del Bitcoin vengono uniti nel DataFrame `joined_df`.\n",
    "- **Tipo di Join**: Viene utilizzato un inner join (`how=\"inner\"`) basato sulla colonna `\"date\"`, mantenendo solo le voci che corrispondono in entrambi i DataFrame.\n",
    "\n",
    "#### Visualizzazione del DataFrame Uniti\n",
    "Viene mostrato il DataFrame `joined_df` per verificare che i dati siano stati uniti correttamente e per esplorare le relazioni tra i dati di sentiment e i prezzi storici del Bitcoin.\n",
    "\n",
    "#### Calcolo della Correlazione\n",
    "Il DataFrame `joined_df` viene successivamente raggruppato per la colonna `\"sentiment\"`.\n",
    "- Viene calcolato il coefficiente di correlazione tra il conteggio del sentiment giornaliero e il valore del prezzo del Bitcoin utilizzando la funzione `corr()` di Spark.\n",
    "- Il risultato viene rinominato come `\"correlation\"` e memorizzato nel DataFrame `correlation_df`.\n",
    "\n",
    "#### Visualizzazione della Correlazione\n",
    "Viene mostrato il DataFrame `correlation_df` per esaminare la correlazione tra il sentiment giornaliero e il valore del prezzo del Bitcoin per ciascuna categoria di sentiment.\n",
    "\n",
    "Questo codice fornisce un'analisi quantitativa delle relazioni tra il sentiment espresso nei tweet e il valore del Bitcoin, evidenziando come i sentimenti influenzano potenzialmente il mercato criptovalutario."
   ]
  },
  {
   "cell_type": "code",
   "execution_count": 0,
   "metadata": {
    "application/vnd.databricks.v1+cell": {
     "cellMetadata": {
      "byteLimit": 2048000,
      "rowLimit": 10000
     },
     "inputWidgets": {},
     "nuid": "5c64e0ff-2e7e-45e9-98ed-de9cb82a3621",
     "showTitle": false,
     "title": ""
    }
   },
   "outputs": [
    {
     "output_type": "stream",
     "name": "stdout",
     "output_type": "stream",
     "text": [
      "+----------+---------+-----+------+\n|      date|sentiment|count| price|\n+----------+---------+-----+------+\n|2012-11-29| positive|    3| 12.45|\n|2013-09-24| positive|   43|122.54|\n|2014-03-23| positive|  134|561.35|\n|2014-06-15| positive|  120|591.97|\n|2014-08-23| negative|   26|497.22|\n|2014-11-12|  neutral|  684|427.24|\n|2014-12-15|  neutral|  476| 345.1|\n|2015-02-14|  neutral|  497|257.47|\n|2015-06-03| negative|   30|225.65|\n|2015-08-10| negative|   60|263.76|\n|2015-09-13| negative|   32|230.33|\n|2016-02-22|  neutral|  459|438.07|\n|2016-02-29|  neutral|  457|436.61|\n|2016-03-11| positive|  206|419.89|\n|2016-03-12| positive|  175|410.13|\n|2016-04-24| positive|   77|460.33|\n|2016-05-19| positive|  188|436.73|\n|2016-06-13|  neutral|  371|705.62|\n|2016-10-17|  neutral|  254|636.92|\n|2016-11-19| positive|   22|750.63|\n+----------+---------+-----+------+\nonly showing top 20 rows\n\n+---------+-------------------+\n|sentiment|        correlation|\n+---------+-------------------+\n| positive|0.16782601804267805|\n|  neutral|0.18150850380007175|\n| negative|0.18023827952391475|\n+---------+-------------------+\n\n"
     ]
    }
   ],
   "source": [
    "# Merge historical Bitcoin price data with daily sentiment data.\n",
    "# This operation joins the daily_sentiment DataFrame with price_df based on the \"timestamp\" column,\n",
    "# using an inner join to retain only matching entries.\n",
    "joined_df = daily_sentiment.join(price_df, on=\"date\", how=\"inner\")\n",
    "joined_df.show()\n",
    "\n",
    "# Calculate the correlation between sentiment and Bitcoin price value.\n",
    "# Group the joined DataFrame by the \"sentiment\" column and compute the correlation coefficient\n",
    "# between the daily sentiment count and the Bitcoin price.\n",
    "correlation_df = joined_df.groupBy(\"sentiment\").agg(\n",
    "    corr(\"count\", \"price\").alias(\"correlation\")\n",
    ")\n",
    "correlation_df.show()"
   ]
  },
  {
   "cell_type": "markdown",
   "metadata": {
    "application/vnd.databricks.v1+cell": {
     "cellMetadata": {},
     "inputWidgets": {},
     "nuid": "9d8abd1f-b41d-43cd-87a5-1df10ee08b03",
     "showTitle": false,
     "title": ""
    }
   },
   "source": [
    "I dati mostrano la correlazione tra il sentimento dei tweet (positivo, neutro, negativo) e il prezzo del Bitcoin. Ecco cosa si può dedurre da questi dati:\n",
    "\n",
    "1. **Correlazioni positive**:\n",
    "   - Tutti e tre i sentiment (positivo, neutro, negativo) mostrano una correlazione positiva con il prezzo del Bitcoin.\n",
    "   - Questo significa che quando il sentimento (indipendentemente che sia positivo, neutro o negativo) aumenta, c'è tendenzialmente un aumento correlato nel prezzo del Bitcoin.\n",
    "\n",
    "2. **Intensità della correlazione**:\n",
    "   - Il valore della correlazione è simile tra i diversi sentiment: positivo, neutro, negativo.\n",
    "   - Questo suggerisce che non c'è una grande differenza nella forza della correlazione tra i diversi tipi di sentiment. Tutti e tre hanno una correlazione relativamente modesta con il prezzo del Bitcoin.\n",
    "\n",
    "3. **Implicazioni generali**:\n",
    "   - La correlazione positiva indica che il sentiment dei tweet è generalmente in linea con i movimenti di prezzo del Bitcoin. Tuttavia, la correlazione non implica necessariamente una relazione causale diretta.\n",
    "   - È possibile che il sentiment dei tweet rifletta il sentimento del mercato in generale, influenzando così il prezzo del Bitcoin o reagendo ad esso.\n",
    "\n",
    "4. **Considerazioni aggiuntive**:\n",
    "   - Altri fattori possono influenzare contemporaneamente sia il sentiment dei tweet che il prezzo del Bitcoin.\n",
    "   - La correlazione potrebbe variare nel tempo e potrebbe essere influenzata da eventi esterni, notizie, sviluppi tecnologici e altri fattori.\n",
    "\n",
    "In sintesi, dai dati forniti si può dedurre che c'è una correlazione positiva tra il prezzo del Bitcoin e il sentiment dei tweets (sia positivo, neutro che negativo), indicando che i cambiamenti nel sentiment possono essere associati a cambiamenti nel prezzo del Bitcoin."
   ]
  },
  {
   "cell_type": "markdown",
   "metadata": {
    "application/vnd.databricks.v1+cell": {
     "cellMetadata": {
      "byteLimit": 2048000,
      "rowLimit": 10000
     },
     "inputWidgets": {},
     "nuid": "bdceb00e-d3f1-4acf-a8af-602600a8613b",
     "showTitle": false,
     "title": ""
    }
   },
   "source": [
    "## Aggregazione dei dati giornalieri di sentiment e prezzo"
   ]
  },
  {
   "cell_type": "markdown",
   "metadata": {
    "application/vnd.databricks.v1+cell": {
     "cellMetadata": {
      "byteLimit": 2048000,
      "rowLimit": 10000
     },
     "inputWidgets": {},
     "nuid": "43175f70-8936-4da3-bec3-52dd56c09b3f",
     "showTitle": false,
     "title": ""
    }
   },
   "source": [
    "#### Definizione delle Condizioni per la Conversione del Sentimento\n",
    "Vengono definite delle condizioni utilizzando `F.when()` di PySpark per convertire il sentimento in valori numerici:\n",
    "- **Sentimento Positivo**: Convertito in `1`.\n",
    "- **Sentimento Neutro**: Convertito in `0`.\n",
    "- **Sentimento Negativo**: Convertito in `-1`.\n",
    "\n",
    "#### Applicazione della Conversione del Sentimento e Calcolo della Media Giornaliera\n",
    "Viene aggiunta una nuova colonna `\"numerical_sentiment\"` al DataFrame `daily_sentiment` basata sulle condizioni definite (`conversion_expr`):\n",
    "- Il DataFrame è quindi raggruppato per `\"date\"` e calcolata la media del sentimento numerico utilizzando `F.avg()`.\n",
    "\n",
    "#### Unione dei Dati di Sentimento con i Dati dei Prezzi del Bitcoin\n",
    "Il DataFrame risultante `daily_sentiment_avg`, contenente la media giornaliera del sentimento numerico, viene unito con il DataFrame `price_df` dei prezzi del Bitcoin:\n",
    "- Viene eseguito un inner join basato sulla colonna `\"date\"` per allineare i dati di sentimento e prezzi.\n",
    "- Vengono selezionate solo le colonne `\"date\"`, `\"avg_sentiment\"`, e `\"price\"` per la visualizzazione.\n",
    "\n",
    "#### Visualizzazione dei Dati Uniti\n",
    "Viene mostrato il DataFrame `joined_df` per esplorare e analizzare la relazione tra il sentimento medio giornaliero e il prezzo del Bitcoin.\n",
    "\n",
    "Questo codice fornisce un metodo efficace per valutare come il sentiment espresso in merito al Bitcoin influenzi i movimenti di prezzo, utilizzando un approccio numerico per quantificare il sentimento e analizzare la sua correlazione con i dati storici dei prezzi."
   ]
  },
  {
   "cell_type": "code",
   "execution_count": 0,
   "metadata": {
    "application/vnd.databricks.v1+cell": {
     "cellMetadata": {
      "byteLimit": 2048000,
      "rowLimit": 10000
     },
     "inputWidgets": {},
     "nuid": "226112b2-b28c-411b-93ee-a9d83ad29e4d",
     "showTitle": false,
     "title": ""
    }
   },
   "outputs": [
    {
     "output_type": "stream",
     "name": "stdout",
     "output_type": "stream",
     "text": [
      "+----------+-------------+---------+\n|      date|avg_sentiment|    price|\n+----------+-------------+---------+\n|2014-02-16|          0.0|   610.65|\n|2014-12-13|          0.0|   347.47|\n|2016-08-17|          0.0|   571.74|\n|2014-02-22|          0.0|   604.75|\n|2015-05-01|          0.0|   232.12|\n|2017-12-05|          0.0| 11696.06|\n|2014-05-27|          0.0|   569.63|\n|2013-03-14|          0.0|    47.17|\n|2017-05-14|          0.0|  1772.42|\n|2018-12-31|          0.0|3689.5647|\n|2017-02-24|          0.0|  1180.92|\n|2014-07-14|          0.0|   618.38|\n|2017-10-20|          0.0|  5984.09|\n|2016-04-22|          0.0|   447.64|\n|2015-02-09|          0.0|   220.17|\n|2015-02-27|          0.0|   252.51|\n|2017-05-11|          0.0|  1807.37|\n|2016-08-20|          0.0|    580.7|\n|2016-08-08|          0.0|   590.62|\n|2012-10-21|          0.0|    11.63|\n+----------+-------------+---------+\nonly showing top 20 rows\n\n"
     ]
    }
   ],
   "source": [
    "# Define conditions for sentiment conversion to numerical values.\n",
    "# Positive sentiment is converted to 1, neutral to 0, and negative to -1.\n",
    "conversion_expr = F.when(F.col(\"sentiment\") == \"positive\", 1) \\\n",
    "                    .when(F.col(\"sentiment\") == \"neutral\", 0) \\\n",
    "                    .when(F.col(\"sentiment\") == \"negative\", -1)\n",
    "\n",
    "# Apply the sentiment conversion and calculate the daily average sentiment.\n",
    "# Add a new column \"numerical_sentiment\" to daily_sentiment DataFrame based on conversion_expr,\n",
    "# then group by \"timestamp\" and compute the average numerical sentiment.\n",
    "daily_sentiment_avg = daily_sentiment.withColumn(\"numerical_sentiment\", conversion_expr) \\\n",
    "                                     .groupBy(\"date\") \\\n",
    "                                     .agg(F.avg(\"numerical_sentiment\").alias(\"avg_sentiment\"))\n",
    "\n",
    "# Merge sentiment data with Bitcoin price data.\n",
    "# Join daily_sentiment_avg DataFrame with price_df based on \"timestamp\" using an inner join,\n",
    "# and select only \"timestamp\", \"avg_sentiment\", and \"price\" columns for display.\n",
    "joined_df = daily_sentiment_avg.join(price_df, on=\"date\", how=\"inner\")\n",
    "joined_df = joined_df.select(\"date\", \"avg_sentiment\", \"price\")\n",
    "joined_df.show()"
   ]
  },
  {
   "cell_type": "markdown",
   "metadata": {
    "application/vnd.databricks.v1+cell": {
     "cellMetadata": {
      "byteLimit": 2048000,
      "rowLimit": 10000
     },
     "inputWidgets": {},
     "nuid": "5e201dcc-b23a-4d7a-b305-ae061494d4b3",
     "showTitle": false,
     "title": ""
    }
   },
   "source": [
    "## Calcolare le variazioni giornaliere del sentiment e del prezzo"
   ]
  },
  {
   "cell_type": "markdown",
   "metadata": {
    "application/vnd.databricks.v1+cell": {
     "cellMetadata": {
      "byteLimit": 2048000,
      "rowLimit": 10000
     },
     "inputWidgets": {},
     "nuid": "85d81080-673a-482e-ba29-8c6e0f578f67",
     "showTitle": false,
     "title": ""
    }
   },
   "source": [
    "#### Calcolo delle Variazioni Giornaliere nel Sentimento e nel Prezzo\n",
    "1. **Aggiunta delle Colonne per il Sentimento Medio Precedente e il Prezzo Precedente**:\n",
    "   - Vengono aggiunte le colonne `\"prev_avg_sentiment\"` e `\"prev_price\"` al DataFrame `joined_df` utilizzando la funzione `lag()` su `avg_sentiment` e `price`, rispettivamente, secondo la finestra specificata (`window_spec`). Questo consente di ottenere i valori del giorno precedente.\n",
    "\n",
    "2. **Calcolo delle Variazioni Giornaliere**:\n",
    "   - Vengono calcolate le variazioni giornaliere nel sentimento (`\"sentiment_change\"`) e nel prezzo (`\"price_change\"`) utilizzando le colonne `\"avg_sentiment\"`, `\"prev_avg_sentiment\"`, `\"price\"` e `\"prev_price\"`.\n",
    "\n",
    "3. **Filtraggio delle Righe con Valori Nulli**:\n",
    "   - Vengono filtrate le righe del DataFrame `joined_df` per rimuovere quelle in cui il sentimento o il prezzo del giorno precedente sono nulli, utilizzando `isNotNull()` su `\"prev_avg_sentiment\"` e `\"prev_price\"`.\n",
    "\n",
    "#### Visualizzazione del DataFrame Risultante\n",
    "Viene mostrato il DataFrame `joined_df` che contiene le variazioni giornaliere nel sentimento e nel prezzo del Bitcoin, fornendo un'analisi delle dinamiche di mercato giornaliere.\n",
    "\n",
    "Questo codice fornisce un approccio strutturato per analizzare e comprendere come il sentimento giornaliero e il prezzo del Bitcoin variano nel tempo, evidenziando le variazioni giornaliere e filtrando eventuali dati mancanti per una analisi più accurata."
   ]
  },
  {
   "cell_type": "code",
   "execution_count": 0,
   "metadata": {
    "application/vnd.databricks.v1+cell": {
     "cellMetadata": {
      "byteLimit": 2048000,
      "rowLimit": 10000
     },
     "inputWidgets": {},
     "nuid": "a4423f73-40e9-4232-aeb8-f6748a39a3bf",
     "showTitle": false,
     "title": ""
    }
   },
   "outputs": [
    {
     "output_type": "stream",
     "name": "stdout",
     "output_type": "stream",
     "text": [
      "+----------+-------------+-----+------------------+----------+----------------+------------+\n|      date|avg_sentiment|price|prev_avg_sentiment|prev_price|sentiment_change|price_change|\n+----------+-------------+-----+------------------+----------+----------------+------------+\n|2011-03-27|          1.0| 0.82|               0.0|      0.32|             1.0|         0.5|\n|2011-04-14|          1.0|  1.0|               1.0|      0.82|             0.0|        0.18|\n|2011-04-24|          0.0| 1.63|               1.0|       1.0|            -1.0|        0.63|\n|2011-05-10|          1.0| 5.81|               0.0|      1.63|             1.0|        4.18|\n|2011-05-11|          0.0|  5.5|               1.0|      5.81|            -1.0| -0.30999994|\n|2011-05-14|          0.0|  7.2|               0.0|       5.5|             0.0|   1.6999998|\n|2011-05-15|          1.0| 6.99|               0.0|       7.2|             1.0| -0.21000004|\n|2011-05-16|          0.0| 8.03|               1.0|      6.99|            -1.0|        1.04|\n|2011-05-17|          1.0| 7.19|               0.0|      8.03|             1.0|  -0.8399997|\n|2011-05-18|          1.0| 6.88|               1.0|      7.19|             0.0| -0.30999994|\n|2011-05-19|          0.0|  6.8|               1.0|      6.88|            -1.0| -0.07999992|\n|2011-05-20|          0.5| 5.59|               0.0|       6.8|             0.5|       -1.21|\n|2011-05-23|          0.0| 7.15|               0.5|      5.59|            -0.5|        1.56|\n|2011-05-27|          0.5|  8.5|               0.0|      7.15|             0.5|   1.3499999|\n|2011-05-29|          0.0| 8.43|               0.5|       8.5|            -0.5|-0.069999695|\n|2011-07-01|          1.0| 15.4|               0.0|      8.43|             1.0|   6.9699993|\n|2011-07-11|          1.0|14.21|               1.0|      15.4|             0.0|  -1.1899996|\n|2011-07-19|          1.0|13.85|               1.0|     14.21|             0.0| -0.35999966|\n|2011-07-20|          1.0|13.69|               1.0|     13.85|             0.0|  -0.1600008|\n|2011-08-22|          1.0|10.89|               1.0|     13.69|             0.0|  -2.7999992|\n+----------+-------------+-----+------------------+----------+----------------+------------+\nonly showing top 20 rows\n\n"
     ]
    }
   ],
   "source": [
    "# Define a window specification to order rows by \"timestamp\".\n",
    "window_spec = Window.orderBy(\"date\")\n",
    "\n",
    "# Calculate the daily changes in sentiment and Bitcoin price.\n",
    "# Add columns for previous average sentiment (\"prev_avg_sentiment\") and previous price (\"prev_price\")\n",
    "# using lag function over the defined window_spec to get the previous day's values.\n",
    "joined_df = joined_df.withColumn(\"prev_avg_sentiment\", F.lag(\"avg_sentiment\").over(window_spec))\n",
    "joined_df = joined_df.withColumn(\"prev_price\", F.lag(\"price\").over(window_spec))\n",
    "\n",
    "# Calculate the daily changes in sentiment and price.\n",
    "joined_df = joined_df.withColumn(\"sentiment_change\", F.col(\"avg_sentiment\") - F.col(\"prev_avg_sentiment\"))\n",
    "joined_df = joined_df.withColumn(\"price_change\", F.col(\"price\") - F.col(\"prev_price\"))\n",
    "\n",
    "# Filter out rows with null values in previous sentiment or price.\n",
    "joined_df = joined_df.filter(F.col(\"prev_avg_sentiment\").isNotNull() & F.col(\"prev_price\").isNotNull())\n",
    "\n",
    "# Show the resulting DataFrame with daily sentiment and price changes.\n",
    "joined_df.show()"
   ]
  },
  {
   "cell_type": "markdown",
   "metadata": {
    "application/vnd.databricks.v1+cell": {
     "cellMetadata": {
      "byteLimit": 2048000,
      "rowLimit": 10000
     },
     "inputWidgets": {},
     "nuid": "cc017ee4-1bd6-4fc2-9ccc-7228b99a24ec",
     "showTitle": false,
     "title": ""
    }
   },
   "source": [
    "## Eseguire l'analisi di correlazione tra le variazioni di sentiment e di prezzo"
   ]
  },
  {
   "cell_type": "markdown",
   "metadata": {
    "application/vnd.databricks.v1+cell": {
     "cellMetadata": {
      "byteLimit": 2048000,
      "rowLimit": 10000
     },
     "inputWidgets": {},
     "nuid": "9fd969b0-9ff5-4324-af5c-088add0be70a",
     "showTitle": false,
     "title": ""
    }
   },
   "source": [
    "#### Calcolo della Correlazione\n",
    "Viene utilizzato il metodo `.corr()` delle `DataFrameStatFunctions` per calcolare il coefficiente di correlazione tra le colonne `\"sentiment_change\"` e `\"price_change\"` nel DataFrame `joined_df`.\n",
    "- Questo metodo calcola la correlazione tra due colonne numeriche nel DataFrame.\n",
    "\n",
    "#### Stampa del Coefficiente di Correlazione\n",
    "Il coefficiente di correlazione calcolato viene stampato utilizzando `print()`, fornendo così una misura della relazione lineare tra le variazioni giornaliere nel sentimento espresso e le variazioni giornaliere nel valore del Bitcoin.\n",
    "\n",
    "Questo codice fornisce un'analisi quantitativa della correlazione tra il cambiamento quotidiano nel sentimento e il cambiamento quotidiano nel valore del Bitcoin, aiutando a comprendere se e come il sentimento influenzi i movimenti di prezzo della criptovaluta.\n"
   ]
  },
  {
   "cell_type": "code",
   "execution_count": 0,
   "metadata": {
    "application/vnd.databricks.v1+cell": {
     "cellMetadata": {
      "byteLimit": 2048000,
      "rowLimit": 10000
     },
     "inputWidgets": {},
     "nuid": "25cb8e0c-b0c7-467b-b6fe-55a9cb5d2fa7",
     "showTitle": false,
     "title": ""
    }
   },
   "outputs": [
    {
     "output_type": "stream",
     "name": "stdout",
     "output_type": "stream",
     "text": [
      "Correlation between sentiment change and Bitcoin value change: -0.00020360943938470415\n"
     ]
    }
   ],
   "source": [
    "# Calculate the correlation between daily changes in sentiment and Bitcoin value.\n",
    "# Use the `corr` method from the DataFrameStatFunctions to compute the correlation coefficient\n",
    "# between the \"sentiment_change\" and \"price_change\" columns in the joined_df DataFrame.\n",
    "correlation = joined_df.stat.corr(\"sentiment_change\", \"price_change\")\n",
    "\n",
    "# Print the calculated correlation coefficient.\n",
    "print(f\"Correlation between sentiment change and Bitcoin value change: {correlation}\")"
   ]
  },
  {
   "cell_type": "markdown",
   "metadata": {
    "application/vnd.databricks.v1+cell": {
     "cellMetadata": {},
     "inputWidgets": {},
     "nuid": "58358d27-9ac4-4b84-8459-83307792ebc6",
     "showTitle": false,
     "title": ""
    }
   },
   "source": [
    "#### Esiste una correlazione tra sentiment e prezzo del Bitcoin?\n",
    "\n",
    "Questa correlazione indica una relazione estremamente debole tra il cambiamento di sentimento e il cambiamento del valore del Bitcoin. Ecco come puoi interpretare questo risultato:\n",
    "\n",
    "1. **Correlazione vicina allo zero**: Il valore così basso (vicino a zero) indica che non c'è una relazione significativa o coerente tra il cambiamento nel sentiment (probabilmente misurato tramite analisi del sentimento sui social media o altre fonti) e il cambiamento nel valore del Bitcoin.\n",
    "\n",
    "2. **Assenza di correlazione**: Una correlazione di questo tipo suggerisce che il sentimento non è un predittore affidabile per il movimento dei prezzi del Bitcoin. In altre parole, anche se il sentimento dei partecipanti al mercato può cambiare (ad esempio, da positivo a negativo o viceversa), questi cambiamenti non sembrano influenzare in modo misurabile il prezzo del Bitcoin.\n",
    "\n",
    "3. **Considerazioni aggiuntive**: È importante notare che la correlazione non implica causalità. Anche se il sentimento non influenza direttamente il prezzo del Bitcoin in questo contesto, ci possono essere altri fattori che influenzano entrambi (come eventi di mercato, regolamentazione, adozione tecnologica, ecc.).\n"
   ]
  }
 ],
 "metadata": {
  "application/vnd.databricks.v1+notebook": {
   "dashboards": [],
   "environmentMetadata": null,
   "language": "python",
   "notebookMetadata": {
    "mostRecentlyExecutedCommandWithImplicitDF": {
     "commandId": 2394012886222336,
     "dataframes": [
      "_sqldf"
     ]
    },
    "pythonIndentUnit": 4
   },
   "notebookName": "Analisi del consenso sul Bitcoin",
   "widgets": {}
  }
 },
 "nbformat": 4,
 "nbformat_minor": 0
}
